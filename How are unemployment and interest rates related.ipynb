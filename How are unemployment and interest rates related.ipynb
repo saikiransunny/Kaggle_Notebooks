{
 "cells": [
  {
   "cell_type": "markdown",
   "execution_count": null,
   "metadata": {
    "_uuid": "077482809c794c6a525cd65ea14d118767b955e6"
   },
   "outputs": [],
   "source": [
    "#### Let's dig in!\n",
    "\n",
    "#### As always I'm always open to suggestions! Give me a thumbs up if you liked it!"
   ]
  },
  {
   "cell_type": "code",
   "execution_count": 1,
   "metadata": {
    "_execution_state": "idle",
    "_uuid": "c3d73f0c1748843f8c70002aea10b993f59f73cc",
    "collapsed": true
   },
   "outputs": [],
   "source": [
    "import numpy as np\n",
    "import pandas as pd\n",
    "import matplotlib.pyplot as plt\n",
    "import seaborn as sns\n",
    "\n",
    "sns.set_style(\"darkgrid\")\n",
    "\n",
    "%matplotlib inline"
   ]
  },
  {
   "cell_type": "code",
   "execution_count": 2,
   "metadata": {
    "_execution_state": "idle",
    "_uuid": "e93f8b6a81c0692d65cb7a9efc88e68c951f1250"
   },
   "outputs": [
    {
     "data": {
      "text/html": [
       "<div>\n",
       "<style>\n",
       "    .dataframe thead tr:only-child th {\n",
       "        text-align: right;\n",
       "    }\n",
       "\n",
       "    .dataframe thead th {\n",
       "        text-align: left;\n",
       "    }\n",
       "\n",
       "    .dataframe tbody tr th {\n",
       "        vertical-align: top;\n",
       "    }\n",
       "</style>\n",
       "<table border=\"1\" class=\"dataframe\">\n",
       "  <thead>\n",
       "    <tr style=\"text-align: right;\">\n",
       "      <th></th>\n",
       "      <th>Year</th>\n",
       "      <th>Month</th>\n",
       "      <th>Day</th>\n",
       "      <th>Federal Funds Target Rate</th>\n",
       "      <th>Federal Funds Upper Target</th>\n",
       "      <th>Federal Funds Lower Target</th>\n",
       "      <th>Effective Federal Funds Rate</th>\n",
       "      <th>Real GDP (Percent Change)</th>\n",
       "      <th>Unemployment Rate</th>\n",
       "      <th>Inflation Rate</th>\n",
       "    </tr>\n",
       "  </thead>\n",
       "  <tbody>\n",
       "    <tr>\n",
       "      <th>0</th>\n",
       "      <td>1954</td>\n",
       "      <td>7</td>\n",
       "      <td>1</td>\n",
       "      <td>NaN</td>\n",
       "      <td>NaN</td>\n",
       "      <td>NaN</td>\n",
       "      <td>0.80</td>\n",
       "      <td>4.6</td>\n",
       "      <td>5.8</td>\n",
       "      <td>NaN</td>\n",
       "    </tr>\n",
       "    <tr>\n",
       "      <th>1</th>\n",
       "      <td>1954</td>\n",
       "      <td>8</td>\n",
       "      <td>1</td>\n",
       "      <td>NaN</td>\n",
       "      <td>NaN</td>\n",
       "      <td>NaN</td>\n",
       "      <td>1.22</td>\n",
       "      <td>NaN</td>\n",
       "      <td>6.0</td>\n",
       "      <td>NaN</td>\n",
       "    </tr>\n",
       "    <tr>\n",
       "      <th>2</th>\n",
       "      <td>1954</td>\n",
       "      <td>9</td>\n",
       "      <td>1</td>\n",
       "      <td>NaN</td>\n",
       "      <td>NaN</td>\n",
       "      <td>NaN</td>\n",
       "      <td>1.06</td>\n",
       "      <td>NaN</td>\n",
       "      <td>6.1</td>\n",
       "      <td>NaN</td>\n",
       "    </tr>\n",
       "    <tr>\n",
       "      <th>3</th>\n",
       "      <td>1954</td>\n",
       "      <td>10</td>\n",
       "      <td>1</td>\n",
       "      <td>NaN</td>\n",
       "      <td>NaN</td>\n",
       "      <td>NaN</td>\n",
       "      <td>0.85</td>\n",
       "      <td>8.0</td>\n",
       "      <td>5.7</td>\n",
       "      <td>NaN</td>\n",
       "    </tr>\n",
       "    <tr>\n",
       "      <th>4</th>\n",
       "      <td>1954</td>\n",
       "      <td>11</td>\n",
       "      <td>1</td>\n",
       "      <td>NaN</td>\n",
       "      <td>NaN</td>\n",
       "      <td>NaN</td>\n",
       "      <td>0.83</td>\n",
       "      <td>NaN</td>\n",
       "      <td>5.3</td>\n",
       "      <td>NaN</td>\n",
       "    </tr>\n",
       "  </tbody>\n",
       "</table>\n",
       "</div>"
      ],
      "text/plain": [
       "   Year  Month  Day  Federal Funds Target Rate  Federal Funds Upper Target  \\\n",
       "0  1954      7    1                        NaN                         NaN   \n",
       "1  1954      8    1                        NaN                         NaN   \n",
       "2  1954      9    1                        NaN                         NaN   \n",
       "3  1954     10    1                        NaN                         NaN   \n",
       "4  1954     11    1                        NaN                         NaN   \n",
       "\n",
       "   Federal Funds Lower Target  Effective Federal Funds Rate  \\\n",
       "0                         NaN                          0.80   \n",
       "1                         NaN                          1.22   \n",
       "2                         NaN                          1.06   \n",
       "3                         NaN                          0.85   \n",
       "4                         NaN                          0.83   \n",
       "\n",
       "   Real GDP (Percent Change)  Unemployment Rate  Inflation Rate  \n",
       "0                        4.6                5.8             NaN  \n",
       "1                        NaN                6.0             NaN  \n",
       "2                        NaN                6.1             NaN  \n",
       "3                        8.0                5.7             NaN  \n",
       "4                        NaN                5.3             NaN  "
      ]
     },
     "execution_count": 2,
     "metadata": {},
     "output_type": "execute_result"
    }
   ],
   "source": [
    "data = pd.read_csv(\"../input/index.csv\")\n",
    "data.head()"
   ]
  },
  {
   "cell_type": "markdown",
   "execution_count": null,
   "metadata": {
    "_uuid": "77d4c705d53e2acccd640717329bdd0322a1b2bb"
   },
   "outputs": [],
   "source": [
    "### Data sanity check!"
   ]
  },
  {
   "cell_type": "code",
   "execution_count": 3,
   "metadata": {
    "_execution_state": "idle",
    "_uuid": "0e973b8f9d2c68daa8ea1f842d6c4e78dbb4f868"
   },
   "outputs": [
    {
     "data": {
      "text/plain": [
       "Year                              0\n",
       "Month                             0\n",
       "Day                               0\n",
       "Federal Funds Target Rate       442\n",
       "Federal Funds Upper Target      801\n",
       "Federal Funds Lower Target      801\n",
       "Effective Federal Funds Rate    152\n",
       "Real GDP (Percent Change)       654\n",
       "Unemployment Rate               152\n",
       "Inflation Rate                  194\n",
       "dtype: int64"
      ]
     },
     "execution_count": 3,
     "metadata": {},
     "output_type": "execute_result"
    }
   ],
   "source": [
    "data.isnull().sum()"
   ]
  },
  {
   "cell_type": "markdown",
   "execution_count": null,
   "metadata": {
    "_uuid": "ca10e7cf5efd25dc0f314fe44cba1bfb69d60cb4"
   },
   "outputs": [],
   "source": [
    "#### Looks like there are too many null values! "
   ]
  },
  {
   "cell_type": "markdown",
   "execution_count": null,
   "metadata": {
    "_uuid": "7913958e60ccaace3fbafdc2f3916195fbabdbb9"
   },
   "outputs": [],
   "source": [
    "## Inflation"
   ]
  },
  {
   "cell_type": "code",
   "execution_count": 4,
   "metadata": {
    "_execution_state": "idle",
    "_uuid": "1f2eb43bb749e74d9cb456ece5cb487caff525a3"
   },
   "outputs": [
    {
     "data": {
      "text/html": [
       "<div>\n",
       "<style>\n",
       "    .dataframe thead tr:only-child th {\n",
       "        text-align: right;\n",
       "    }\n",
       "\n",
       "    .dataframe thead th {\n",
       "        text-align: left;\n",
       "    }\n",
       "\n",
       "    .dataframe tbody tr th {\n",
       "        vertical-align: top;\n",
       "    }\n",
       "</style>\n",
       "<table border=\"1\" class=\"dataframe\">\n",
       "  <thead>\n",
       "    <tr style=\"text-align: right;\">\n",
       "      <th></th>\n",
       "      <th>Year</th>\n",
       "      <th>Mean_inflation</th>\n",
       "    </tr>\n",
       "  </thead>\n",
       "  <tbody>\n",
       "    <tr>\n",
       "      <th>0</th>\n",
       "      <td>1954</td>\n",
       "      <td>NaN</td>\n",
       "    </tr>\n",
       "    <tr>\n",
       "      <th>1</th>\n",
       "      <td>1955</td>\n",
       "      <td>NaN</td>\n",
       "    </tr>\n",
       "    <tr>\n",
       "      <th>2</th>\n",
       "      <td>1956</td>\n",
       "      <td>NaN</td>\n",
       "    </tr>\n",
       "    <tr>\n",
       "      <th>3</th>\n",
       "      <td>1957</td>\n",
       "      <td>NaN</td>\n",
       "    </tr>\n",
       "    <tr>\n",
       "      <th>4</th>\n",
       "      <td>1958</td>\n",
       "      <td>2.283333</td>\n",
       "    </tr>\n",
       "  </tbody>\n",
       "</table>\n",
       "</div>"
      ],
      "text/plain": [
       "   Year  Mean_inflation\n",
       "0  1954             NaN\n",
       "1  1955             NaN\n",
       "2  1956             NaN\n",
       "3  1957             NaN\n",
       "4  1958        2.283333"
      ]
     },
     "execution_count": 4,
     "metadata": {},
     "output_type": "execute_result"
    }
   ],
   "source": [
    "inspect_inflation = data.groupby('Year')['Inflation Rate'].mean().to_frame().reset_index()\n",
    "inspect_inflation.columns = ['Year', 'Mean_inflation']\n",
    "\n",
    "inspect_inflation.head()"
   ]
  },
  {
   "cell_type": "code",
   "execution_count": 5,
   "metadata": {
    "_execution_state": "idle",
    "_uuid": "ec2ee4c3c30ddb85ed5f491b6dd145ed5c52b347"
   },
   "outputs": [
    {
     "data": {
      "text/plain": [
       "[<matplotlib.lines.Line2D at 0x7f452f411470>]"
      ]
     },
     "execution_count": 5,
     "metadata": {},
     "output_type": "execute_result"
    },
    {
     "data": {
      "image/png": "[encoded data removed]",
      "text/plain": [
       "<matplotlib.figure.Figure at 0x7f44f6397518>"
      ]
     },
     "metadata": {},
     "output_type": "display_data"
    }
   ],
   "source": [
    "plt.plot(inspect_inflation['Year'], inspect_inflation['Mean_inflation'])"
   ]
  },
  {
   "cell_type": "code",
   "execution_count": 6,
   "metadata": {
    "_execution_state": "idle",
    "_uuid": "bdcd37f8577bdb7ae2670530fe4d0c9b06234625"
   },
   "outputs": [
    {
     "data": {
      "text/plain": [
       "194"
      ]
     },
     "execution_count": 6,
     "metadata": {},
     "output_type": "execute_result"
    }
   ],
   "source": [
    "data['Inflation Rate'].isnull().sum()"
   ]
  },
  {
   "cell_type": "markdown",
   "execution_count": null,
   "metadata": {
    "_uuid": "59cebce17ce2d3a0fa8c04bc76cb5d379e6e8fb2"
   },
   "outputs": [],
   "source": [
    "let's employ two different ways to impute the data here. \n",
    "    - Chart observation. \n",
    "    - Imputing the mean of that year. "
   ]
  },
  {
   "cell_type": "code",
   "execution_count": 7,
   "metadata": {
    "_execution_state": "idle",
    "_uuid": "a3e3e7144af8d748ef312553e90dfe7c21d8affb"
   },
   "outputs": [],
   "source": [
    "#Looking at the plot above I think it will be a safe assumption to replace Nan of 1954-1957 to be around 3. \n",
    "data.loc[data['Year'] < 1958, 'Inflation Rate'] = 3.00"
   ]
  },
  {
   "cell_type": "markdown",
   "execution_count": null,
   "metadata": {
    "_uuid": "5d48d0261344c923f0e00f21680dfea7418b2dc6"
   },
   "outputs": [],
   "source": [
    "Remaining null are..."
   ]
  },
  {
   "cell_type": "code",
   "execution_count": 8,
   "metadata": {
    "_execution_state": "idle",
    "_uuid": "31f1d2e695ed369db2629445fc1918869fcc185f"
   },
   "outputs": [
    {
     "data": {
      "text/plain": [
       "152"
      ]
     },
     "execution_count": 8,
     "metadata": {},
     "output_type": "execute_result"
    }
   ],
   "source": [
    "data['Inflation Rate'].isnull().sum()"
   ]
  },
  {
   "cell_type": "code",
   "execution_count": 9,
   "metadata": {
    "_execution_state": "idle",
    "_uuid": "320a2f4e1bf802ff0f437becd0a482e50696d692",
    "collapsed": true
   },
   "outputs": [],
   "source": [
    "Inflationrate_lookup = data.groupby('Year')['Inflation Rate'].mean().to_frame().reset_index()\n",
    "Inflationrate_lookup.columns = ['Year', 'Mean_inflation']"
   ]
  },
  {
   "cell_type": "code",
   "execution_count": 10,
   "metadata": {
    "_execution_state": "idle",
    "_uuid": "e0f37f4af594e2ef99bb3cdc1e06236a958517c1"
   },
   "outputs": [
    {
     "data": {
      "text/html": [
       "<div>\n",
       "<style>\n",
       "    .dataframe thead tr:only-child th {\n",
       "        text-align: right;\n",
       "    }\n",
       "\n",
       "    .dataframe thead th {\n",
       "        text-align: left;\n",
       "    }\n",
       "\n",
       "    .dataframe tbody tr th {\n",
       "        vertical-align: top;\n",
       "    }\n",
       "</style>\n",
       "<table border=\"1\" class=\"dataframe\">\n",
       "  <thead>\n",
       "    <tr style=\"text-align: right;\">\n",
       "      <th></th>\n",
       "      <th>Year</th>\n",
       "      <th>Mean_inflation</th>\n",
       "    </tr>\n",
       "  </thead>\n",
       "  <tbody>\n",
       "    <tr>\n",
       "      <th>0</th>\n",
       "      <td>1954</td>\n",
       "      <td>3.000000</td>\n",
       "    </tr>\n",
       "    <tr>\n",
       "      <th>1</th>\n",
       "      <td>1955</td>\n",
       "      <td>3.000000</td>\n",
       "    </tr>\n",
       "    <tr>\n",
       "      <th>2</th>\n",
       "      <td>1956</td>\n",
       "      <td>3.000000</td>\n",
       "    </tr>\n",
       "    <tr>\n",
       "      <th>3</th>\n",
       "      <td>1957</td>\n",
       "      <td>3.000000</td>\n",
       "    </tr>\n",
       "    <tr>\n",
       "      <th>4</th>\n",
       "      <td>1958</td>\n",
       "      <td>2.283333</td>\n",
       "    </tr>\n",
       "  </tbody>\n",
       "</table>\n",
       "</div>"
      ],
      "text/plain": [
       "   Year  Mean_inflation\n",
       "0  1954        3.000000\n",
       "1  1955        3.000000\n",
       "2  1956        3.000000\n",
       "3  1957        3.000000\n",
       "4  1958        2.283333"
      ]
     },
     "execution_count": 10,
     "metadata": {},
     "output_type": "execute_result"
    }
   ],
   "source": [
    "Inflationrate_lookup.head()"
   ]
  },
  {
   "cell_type": "code",
   "execution_count": 11,
   "metadata": {
    "_execution_state": "idle",
    "_uuid": "341dc7c3d0725a1069daee582ffc7e8a33f512ae"
   },
   "outputs": [],
   "source": [
    "def impute_Inflationrate(row):\n",
    "    #You need to impute the row, takeing statistics from dataframe.\n",
    "    global Inflationrate_lookup\n",
    "    return_value = row['Inflation Rate']\n",
    "    if(np.isnan(return_value)):\n",
    "        return_value = Inflationrate_lookup.loc[Inflationrate_lookup.Year == row['Year'], \"Mean_inflation\"]\n",
    "    return(return_value)\n",
    "    \n",
    "    \n",
    "    \n",
    "data['Inflation Rate'] = data.apply(lambda row: impute_Inflationrate(row) , axis = 1)\n",
    "data['Inflation Rate'] = data['Inflation Rate'].astype(\"float64\")\n"
   ]
  },
  {
   "cell_type": "markdown",
   "execution_count": null,
   "metadata": {
    "_uuid": "25cf241819c700f29c5234108a1b3aadc493edc8"
   },
   "outputs": [],
   "source": [
    "## Unemployment"
   ]
  },
  {
   "cell_type": "code",
   "execution_count": 12,
   "metadata": {
    "_execution_state": "idle",
    "_uuid": "ec7799e4b59bdd515be77ade1ceb829e31721ccb"
   },
   "outputs": [
    {
     "data": {
      "text/plain": [
       "[<matplotlib.lines.Line2D at 0x7f44f2eadc88>]"
      ]
     },
     "execution_count": 12,
     "metadata": {},
     "output_type": "execute_result"
    },
    {
     "data": {
      "image/png": "[encoded data removed]",
      "text/plain": [
       "<matplotlib.figure.Figure at 0x7f44f2f79080>"
      ]
     },
     "metadata": {},
     "output_type": "display_data"
    }
   ],
   "source": [
    "inspect_unemployment = data.groupby('Year')['Unemployment Rate'].mean().to_frame().reset_index()\n",
    "inspect_unemployment.columns = ['Year', 'Mean_Unemployment']\n",
    "plt.plot(inspect_unemployment['Year'], inspect_unemployment['Mean_Unemployment'], color = \"red\")"
   ]
  },
  {
   "cell_type": "markdown",
   "execution_count": null,
   "metadata": {
    "_uuid": "fdd405d5895a52b25406ea3dce70bd1f0c84f52e"
   },
   "outputs": [],
   "source": [
    "#### Unemployment imputation. "
   ]
  },
  {
   "cell_type": "code",
   "execution_count": 13,
   "metadata": {
    "_execution_state": "idle",
    "_uuid": "b6bebac82825680e2434fd91d16a281bc7c1ba59"
   },
   "outputs": [
    {
     "data": {
      "text/plain": [
       "152"
      ]
     },
     "execution_count": 13,
     "metadata": {},
     "output_type": "execute_result"
    }
   ],
   "source": [
    "Unemploymentrate_lookup = data.groupby('Year')['Unemployment Rate'].mean().to_frame().reset_index()\n",
    "Unemploymentrate_lookup.columns = ['Year', 'Mean_Unemployment']\n",
    "\n",
    "data['Unemployment Rate'].isnull().sum()"
   ]
  },
  {
   "cell_type": "code",
   "execution_count": 14,
   "metadata": {
    "_execution_state": "idle",
    "_uuid": "4bcae006159a6cdb5d21f1cdb85b7b52ec6318d3"
   },
   "outputs": [
    {
     "data": {
      "text/plain": [
       "0"
      ]
     },
     "execution_count": 14,
     "metadata": {},
     "output_type": "execute_result"
    }
   ],
   "source": [
    "def impute_Unemploymentrate(row):\n",
    "    #You need to impute the row, takeing statistics from dataframe.\n",
    "    global Unemploymentrate_lookup\n",
    "    return_value = row['Unemployment Rate']\n",
    "    if(np.isnan(return_value)):\n",
    "        return_value = Unemploymentrate_lookup.loc[Unemploymentrate_lookup.Year == row['Year'], \"Mean_Unemployment\"]\n",
    "    return(return_value)\n",
    "    \n",
    "    \n",
    "    \n",
    "data['Unemployment Rate'] = data.apply(lambda row: impute_Unemploymentrate(row) , axis = 1)\n",
    "data['Unemployment Rate'] = data['Unemployment Rate'].astype(\"float64\")\n",
    "data['Unemployment Rate'].isnull().sum()"
   ]
  },
  {
   "cell_type": "markdown",
   "execution_count": null,
   "metadata": {
    "_uuid": "5766cd97b8bc3346090bf5fcb00feaf15aad8b21"
   },
   "outputs": [],
   "source": [
    "### Let's Plot on a single graph. "
   ]
  },
  {
   "cell_type": "code",
   "execution_count": 15,
   "metadata": {
    "_execution_state": "idle",
    "_uuid": "2dd574e0150bce015fb9739cb75b70d7fa7fd4c1"
   },
   "outputs": [],
   "source": [
    "inspect_inflation = data.groupby('Year')['Inflation Rate'].mean().to_frame().reset_index()\n",
    "inspect_inflation.columns = ['Year', 'Mean_inflation']\n",
    "\n",
    "inspect_unemployment = data.groupby('Year')['Unemployment Rate'].mean().to_frame().reset_index()\n",
    "inspect_unemployment.columns = ['Year', 'Mean_Unemployment']\n"
   ]
  },
  {
   "cell_type": "code",
   "execution_count": 16,
   "metadata": {
    "_execution_state": "idle",
    "_uuid": "7fed2f6c7b6355d19f462957ddfa5f5a0713dfa9"
   },
   "outputs": [
    {
     "data": {
      "text/plain": [
       "<matplotlib.legend.Legend at 0x7f44f2e688d0>"
      ]
     },
     "execution_count": 16,
     "metadata": {},
     "output_type": "execute_result"
    },
    {
     "data": {
      "image/png": "[encoded data removed]",
      "text/plain": [
       "<matplotlib.figure.Figure at 0x7f44f2e6e668>"
      ]
     },
     "metadata": {},
     "output_type": "display_data"
    }
   ],
   "source": [
    "#Doing the same as above. \n",
    "import matplotlib.patches as mpatches\n",
    "\n",
    "plt.plot(inspect_unemployment['Year'], inspect_unemployment['Mean_Unemployment'])\n",
    "blue_patch = mpatches.Patch(color='blue', label='Unemployment')\n",
    "\n",
    "\n",
    "plt.plot(inspect_inflation['Year'], inspect_inflation['Mean_inflation'], color = \"red\")\n",
    "red_patch = mpatches.Patch(color='red', label='Inflation')\n",
    "plt.legend(handles=[blue_patch, red_patch])\n"
   ]
  },
  {
   "cell_type": "markdown",
   "execution_count": null,
   "metadata": {
    "_uuid": "e124ccebeb16b6466ad2daab046fbe3c8fa0178e"
   },
   "outputs": [],
   "source": [
    "### Inference: It looks like Unemployment follows inflation. That is, there seeems to be a strong correlation between Unemployment and drag of 6-12 months of Inflation"
   ]
  }
 ],
 "metadata": {
  "kernelspec": {
   "display_name": "Python 3",
   "language": "python",
   "name": "python3"
  },
  "language_info": {
   "codemirror_mode": {
    "name": "ipython",
    "version": 3
   },
   "file_extension": ".py",
   "mimetype": "text/x-python",
   "name": "python",
   "nbconvert_exporter": "python",
   "pygments_lexer": "ipython3",
   "version": "3.5.2"
  }
 },
 "nbformat": 4,
 "nbformat_minor": 2
}
