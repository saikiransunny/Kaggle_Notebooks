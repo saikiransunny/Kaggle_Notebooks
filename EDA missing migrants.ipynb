{
 "cells": [
  {
   "cell_type": "markdown",
   "execution_count": null,
   "metadata": {
    "_uuid": "144585abd37093165938493be057cb779736c4f7"
   },
   "outputs": [],
   "source": [
    "#### Let's dig in!\n",
    "\n",
    "#### Give me a thumbs up if you liked it! And I'm always open to suggestions!"
   ]
  },
  {
   "cell_type": "markdown",
   "execution_count": null,
   "metadata": {
    "_uuid": "967d6170896255df127bd2a77b2fdffd82a67e08"
   },
   "outputs": [],
   "source": [
    "##### Some key insights from this dataset is as follows:\n",
    "    \n",
    "   * Most number of deaths have occured in 3rd week!\n",
    "   * Drowning is the primary reason for cause of death.\n",
    "   * African countries are most effected in terms of number of deaths.\n",
    "   * Syria and Mexico are most effected."
   ]
  },
  {
   "cell_type": "code",
   "execution_count": 1,
   "metadata": {
    "_execution_state": "idle",
    "_uuid": "26e70eb7e7c08d93d98eaa5a221e571677966ed5",
    "collapsed": true
   },
   "outputs": [],
   "source": [
    "import numpy as np\n",
    "import pandas as pd\n",
    "import matplotlib.pyplot as plt\n",
    "import seaborn as sns\n",
    "\n",
    "sns.set_style(\"whitegrid\")\n",
    "\n",
    "%matplotlib inline"
   ]
  },
  {
   "cell_type": "code",
   "execution_count": 2,
   "metadata": {
    "_execution_state": "idle",
    "_uuid": "88bf618108416e3acaf93314d1bb38792e29d74b"
   },
   "outputs": [
    {
     "data": {
      "text/html": [
       "<div>\n",
       "<table border=\"1\" class=\"dataframe\">\n",
       "  <thead>\n",
       "    <tr style=\"text-align: right;\">\n",
       "      <th></th>\n",
       "      <th>id</th>\n",
       "      <th>cause_of_death</th>\n",
       "      <th>region_origin</th>\n",
       "      <th>affected_nationality</th>\n",
       "      <th>missing</th>\n",
       "      <th>dead</th>\n",
       "      <th>incident_region</th>\n",
       "      <th>date</th>\n",
       "      <th>source</th>\n",
       "      <th>reliability</th>\n",
       "      <th>lat</th>\n",
       "      <th>lon</th>\n",
       "    </tr>\n",
       "  </thead>\n",
       "  <tbody>\n",
       "    <tr>\n",
       "      <th>0</th>\n",
       "      <td>1</td>\n",
       "      <td>Presumed drowning</td>\n",
       "      <td>Middle East</td>\n",
       "      <td>Iraq</td>\n",
       "      <td>1.0</td>\n",
       "      <td>1.0</td>\n",
       "      <td>Mediterranean</td>\n",
       "      <td>05/11/2015</td>\n",
       "      <td>IOM Greece</td>\n",
       "      <td>Verified</td>\n",
       "      <td>36.89150</td>\n",
       "      <td>27.287700</td>\n",
       "    </tr>\n",
       "    <tr>\n",
       "      <th>1</th>\n",
       "      <td>3</td>\n",
       "      <td>Fell from train</td>\n",
       "      <td>Central America &amp; Mexico</td>\n",
       "      <td>Honduras</td>\n",
       "      <td>NaN</td>\n",
       "      <td>1.0</td>\n",
       "      <td>Central America incl. Mexico</td>\n",
       "      <td>03/11/2015</td>\n",
       "      <td>La Jornada</td>\n",
       "      <td>Partially Verified</td>\n",
       "      <td>15.95640</td>\n",
       "      <td>-93.663100</td>\n",
       "    </tr>\n",
       "    <tr>\n",
       "      <th>2</th>\n",
       "      <td>4</td>\n",
       "      <td>Presumed drowning</td>\n",
       "      <td>Middle East</td>\n",
       "      <td>NaN</td>\n",
       "      <td>NaN</td>\n",
       "      <td>1.0</td>\n",
       "      <td>Mediterranean</td>\n",
       "      <td>03/11/2015</td>\n",
       "      <td>Hellenic Coast Guard</td>\n",
       "      <td>Verified</td>\n",
       "      <td>36.50439</td>\n",
       "      <td>27.363253</td>\n",
       "    </tr>\n",
       "    <tr>\n",
       "      <th>3</th>\n",
       "      <td>6</td>\n",
       "      <td>Drowning</td>\n",
       "      <td>MENA</td>\n",
       "      <td>NaN</td>\n",
       "      <td>6.0</td>\n",
       "      <td>4.0</td>\n",
       "      <td>Mediterranean</td>\n",
       "      <td>01/11/2015</td>\n",
       "      <td>Reuters</td>\n",
       "      <td>Partially Verified</td>\n",
       "      <td>37.28560</td>\n",
       "      <td>27.086600</td>\n",
       "    </tr>\n",
       "    <tr>\n",
       "      <th>4</th>\n",
       "      <td>7</td>\n",
       "      <td>Vehicle accident</td>\n",
       "      <td>South East Asia</td>\n",
       "      <td>Cambodia</td>\n",
       "      <td>NaN</td>\n",
       "      <td>4.0</td>\n",
       "      <td>Southeast Asia</td>\n",
       "      <td>01/11/2015</td>\n",
       "      <td>Phnom Penh Post</td>\n",
       "      <td>Partially Verified</td>\n",
       "      <td>13.36110</td>\n",
       "      <td>100.985000</td>\n",
       "    </tr>\n",
       "  </tbody>\n",
       "</table>\n",
       "</div>"
      ],
      "text/plain": [
       "   id     cause_of_death             region_origin affected_nationality  \\\n",
       "0   1  Presumed drowning               Middle East                 Iraq   \n",
       "1   3    Fell from train  Central America & Mexico             Honduras   \n",
       "2   4  Presumed drowning               Middle East                  NaN   \n",
       "3   6           Drowning                      MENA                  NaN   \n",
       "4   7   Vehicle accident           South East Asia             Cambodia   \n",
       "\n",
       "   missing  dead               incident_region        date  \\\n",
       "0      1.0   1.0                 Mediterranean  05/11/2015   \n",
       "1      NaN   1.0  Central America incl. Mexico  03/11/2015   \n",
       "2      NaN   1.0                 Mediterranean  03/11/2015   \n",
       "3      6.0   4.0                 Mediterranean  01/11/2015   \n",
       "4      NaN   4.0                Southeast Asia  01/11/2015   \n",
       "\n",
       "                 source         reliability       lat         lon  \n",
       "0            IOM Greece            Verified  36.89150   27.287700  \n",
       "1            La Jornada  Partially Verified  15.95640  -93.663100  \n",
       "2  Hellenic Coast Guard            Verified  36.50439   27.363253  \n",
       "3               Reuters  Partially Verified  37.28560   27.086600  \n",
       "4       Phnom Penh Post  Partially Verified  13.36110  100.985000  "
      ]
     },
     "execution_count": 2,
     "metadata": {},
     "output_type": "execute_result"
    }
   ],
   "source": [
    "data = pd.read_csv(\"../input/MissingMigrantsProject.csv\", encoding = \"cp437\")\n",
    "data.head()"
   ]
  },
  {
   "cell_type": "markdown",
   "execution_count": null,
   "metadata": {
    "_uuid": "d9c149feca9b7e2c82d83e5baeb832829bbe5dac"
   },
   "outputs": [],
   "source": [
    "#### Data sanity check. "
   ]
  },
  {
   "cell_type": "code",
   "execution_count": 3,
   "metadata": {
    "_execution_state": "idle",
    "_uuid": "4cc4763644ad66ab12fe5a65754b60ead4cfb8a6"
   },
   "outputs": [
    {
     "data": {
      "text/plain": [
       "id                         0\n",
       "cause_of_death           203\n",
       "region_origin            443\n",
       "affected_nationality    1575\n",
       "missing                 2149\n",
       "dead                     102\n",
       "incident_region           10\n",
       "date                       9\n",
       "source                     7\n",
       "reliability              324\n",
       "lat                        4\n",
       "lon                        4\n",
       "dtype: int64"
      ]
     },
     "execution_count": 3,
     "metadata": {},
     "output_type": "execute_result"
    }
   ],
   "source": [
    "data.isnull().sum()"
   ]
  },
  {
   "cell_type": "markdown",
   "execution_count": null,
   "metadata": {
    "_uuid": "08f50396efd9188f142171298cb1f2b82de0da2f"
   },
   "outputs": [],
   "source": [
    "#### Creating date features."
   ]
  },
  {
   "cell_type": "code",
   "execution_count": 4,
   "metadata": {
    "_execution_state": "idle",
    "_uuid": "7c660277b148e02492e2e8ca4c4a5c49f0d95e69"
   },
   "outputs": [
    {
     "data": {
      "text/plain": [
       "<matplotlib.axes._subplots.AxesSubplot at 0x7f31c00ccfd0>"
      ]
     },
     "execution_count": 4,
     "metadata": {},
     "output_type": "execute_result"
    },
    {
     "data": {
      "image/png": "[encoded data removed]",
      "text/plain": [
       "<matplotlib.figure.Figure at 0x7f31c0839898>"
      ]
     },
     "metadata": {},
     "output_type": "display_data"
    }
   ],
   "source": [
    "#Date features. \n",
    "data['date_day'] = pd.DatetimeIndex(data['date']).day\n",
    "data['date_month'] = pd.DatetimeIndex(data['date']).month\n",
    "data['date_year'] = pd.DatetimeIndex(data['date']).year\n",
    "\n",
    "data['date_day'].value_counts().to_frame().plot(kind = \"bar\")"
   ]
  },
  {
   "cell_type": "markdown",
   "execution_count": null,
   "metadata": {
    "_uuid": "0d4a6c8ec917a7ddc6c6103abc454d2265626850"
   },
   "outputs": [],
   "source": [
    "##### Inference : There isn't seem to be a strong pattern here. But people seem to move more during 17th, 18th, 19th, 20th. "
   ]
  },
  {
   "cell_type": "markdown",
   "execution_count": null,
   "metadata": {
    "_uuid": "31b842353bea1149bba8abbef284881133adac1a"
   },
   "outputs": [],
   "source": [
    "### Can we find any pattern in day of the week?"
   ]
  },
  {
   "cell_type": "code",
   "execution_count": 5,
   "metadata": {
    "_execution_state": "idle",
    "_uuid": "c89bc59db7ccf65e4ac8fcc548569117218ed374",
    "collapsed": true
   },
   "outputs": [],
   "source": [
    "#That is \n",
    "# Monday - 0\n",
    "# Tuesday - 1 etc. \n",
    "data['date_dayofweek'] = pd.DatetimeIndex(data['date']).dayofweek"
   ]
  },
  {
   "cell_type": "code",
   "execution_count": 6,
   "metadata": {
    "_execution_state": "idle",
    "_uuid": "b5433bdda45ced1c5b52dea365f9ee1faa72c9af"
   },
   "outputs": [
    {
     "data": {
      "text/plain": [
       "<matplotlib.axes._subplots.AxesSubplot at 0x7f31c07985f8>"
      ]
     },
     "execution_count": 6,
     "metadata": {},
     "output_type": "execute_result"
    },
    {
     "data": {
      "image/png": "[encoded data removed]",
      "text/plain": [
       "<matplotlib.figure.Figure at 0x7f31c00cccc0>"
      ]
     },
     "metadata": {},
     "output_type": "display_data"
    }
   ],
   "source": [
    "data['date_dayofweek'].value_counts().plot(kind = \"bar\")"
   ]
  },
  {
   "cell_type": "markdown",
   "execution_count": null,
   "metadata": {
    "_uuid": "a68e1b8f3e10cea4c8b2de2e13bffce1845f05b4"
   },
   "outputs": [],
   "source": [
    "### Can we find any pattern in months?"
   ]
  },
  {
   "cell_type": "code",
   "execution_count": 7,
   "metadata": {
    "_execution_state": "idle",
    "_uuid": "27405ec348c315ab89daf8a5dbc5c41c9d45720a"
   },
   "outputs": [
    {
     "data": {
      "text/plain": [
       "<matplotlib.axes._subplots.AxesSubplot at 0x7f31c05cd2b0>"
      ]
     },
     "execution_count": 7,
     "metadata": {},
     "output_type": "execute_result"
    },
    {
     "data": {
      "image/png": "[encoded data removed]",
      "text/plain": [
       "<matplotlib.figure.Figure at 0x7f31c05d91d0>"
      ]
     },
     "metadata": {},
     "output_type": "display_data"
    }
   ],
   "source": [
    "data['date_month'].value_counts().to_frame().plot(kind = \"bar\")"
   ]
  },
  {
   "cell_type": "code",
   "execution_count": 8,
   "metadata": {
    "_execution_state": "idle",
    "_uuid": "db17e59cd23ec32d72192817ac83f3ae82cbb266"
   },
   "outputs": [
    {
     "name": "stdout",
     "output_type": "stream",
     "text": [
      "9\n",
      "20.0    173\n",
      "19.0    145\n",
      "30.0    145\n",
      "18.0    127\n",
      "17.0    121\n",
      "Name: date_day, dtype: int64\n"
     ]
    }
   ],
   "source": [
    "print(data['date_day'].isnull().sum())\n",
    "print(data['date_day'].value_counts().head(5))\n",
    "\n",
    "\n"
   ]
  },
  {
   "cell_type": "code",
   "execution_count": 9,
   "metadata": {
    "_execution_state": "idle",
    "_uuid": "9747fcc7fb7fdd2f56bf4b588cf7deac0f705866",
    "collapsed": true
   },
   "outputs": [
    {
     "name": "stdout",
     "output_type": "stream",
     "text": [
      "0\n"
     ]
    }
   ],
   "source": [
    "#subsituting with 20\n",
    "data['date_day'] = data['date_day'].fillna(20.0)\n",
    "print(data['date_day'].isnull().sum())"
   ]
  },
  {
   "cell_type": "markdown",
   "execution_count": null,
   "metadata": {
    "_uuid": "aff1e3d034ac509f8bddecbe770c8642e500ad04"
   },
   "outputs": [],
   "source": [
    "### Can we find any pattern in week number?"
   ]
  },
  {
   "cell_type": "code",
   "execution_count": 10,
   "metadata": {
    "_execution_state": "idle",
    "_uuid": "ad19de3e879f7690d50b89cc33f390bc899eb478"
   },
   "outputs": [
    {
     "data": {
      "text/plain": [
       "<matplotlib.axes._subplots.AxesSubplot at 0x7f31c0810278>"
      ]
     },
     "execution_count": 10,
     "metadata": {},
     "output_type": "execute_result"
    },
    {
     "data": {
      "image/png": "[encoded data removed]",
      "text/plain": [
       "<matplotlib.figure.Figure at 0x7f31c05d9668>"
      ]
     },
     "metadata": {},
     "output_type": "display_data"
    }
   ],
   "source": [
    "import math\n",
    "data['week_number'] = [math.ceil(datum/7) for datum in data['date_day']]\n",
    "data['week_number'].value_counts().plot(kind = 'bar')"
   ]
  },
  {
   "cell_type": "markdown",
   "execution_count": null,
   "metadata": {
    "_uuid": "f99ed0ba2229c7c671fe31a8e680a8b462924fb9"
   },
   "outputs": [],
   "source": [
    "#### Inference: Looks like we found one. It looks like week 3 is when people move more to cross borders. "
   ]
  },
  {
   "cell_type": "markdown",
   "execution_count": null,
   "metadata": {
    "_uuid": "069004ef04b74a8a2b0364c5dd5b002ad71e4cb8"
   },
   "outputs": [],
   "source": [
    "## Cause of Death and substitution. "
   ]
  },
  {
   "cell_type": "code",
   "execution_count": 11,
   "metadata": {
    "_execution_state": "idle",
    "_uuid": "2db47032ce9eda9c7139aab4852c97a3489235f1"
   },
   "outputs": [
    {
     "data": {
      "text/plain": [
       "array(['presumed drowning', 'fell from train', 'drowning',\n",
       "       'vehicle accident',\n",
       "       'died of unknown cause in hospital shortly after rescue',\n",
       "       'exposure. died upon entry to refugee camp.', 'suffocation',\n",
       "       'hit by vehicle', 'hit by train', 'shot', 'hi by truck',\n",
       "       'crushed to death', 'drowning. boat collided with ferry',\n",
       "       'electrocution', 'unknown, torture involved', 'train accident',\n",
       "       'drowning, asphyxiation',\n",
       "       'burns from cooking gas explosion in connection house in libya',\n",
       "       'drowning after being thrown overboard by other passengers',\n",
       "       'hypothermia',\n",
       "       'unclear, possibly related to earlier beating by truck driver',\n",
       "       'severe exhaustion and dehydration', 'beating/shot by traffickers',\n",
       "       'starvation', 'unknown (found on motorway)',\n",
       "       'burned to death hiding in truck', 'hit by truck',\n",
       "       'drowning due to forced disembarcation', 'hyperthermia, starvation',\n",
       "       'hyperthermia', 'tortured to death',\n",
       "       'dehydration, presumed drowning', 'unknown (skeletal remains)',\n",
       "       'unspecified location between north africa and italy. body brought to calabria.',\n",
       "       'homicide, likely by asphyxiation', 'on board violence',\n",
       "       'asphyxiation and crushing', 'clubbed/beaten to death',\n",
       "       'asphyxiation', 'fell from truck', 'blunt force injuries',\n",
       "       'starvation, dehydration, exhaustion',\n",
       "       'hyperthermia, abandoned by smugglers in the desert',\n",
       "       'fell from wall', 'toxic fumes/asphyxiation', 'found hanged',\n",
       "       'mostly starvation, dehydration, and beatings by crew members',\n",
       "       'mixed', 'plane stowaway', 'head injury',\n",
       "       'unknown (bodies recovered from boat)', 'killed',\n",
       "       'suffocation, trampled', 'pulmonary edema',\n",
       "       'unknown (body recovered from boat)',\n",
       "       'unknown (found dead on top of train)', 'drowning, trampling',\n",
       "       'presumed asphyxiation', 'road accident',\n",
       "       'gylcemic crisis (diabetic, medicine thrown overboard)',\n",
       "       'violent robbery', 'inhalation of toxic fumes from boat engine',\n",
       "       'sickness', 'drowning, other', 'crushed by bus on ferry',\n",
       "       'crushed by pallets', 'attacked by hippopotamus',\n",
       "       'raped and murdered', 'murdered',\n",
       "       \"unspecified deaths on 'la bestia' train\", 'presumed shot',\n",
       "       'unknown, plane stowaway', 'meningitis',\n",
       "       'mixed. migrants were stranded on boats', 'exposure, hypothermia',\n",
       "       'landmine', 'hypothermia, malnutrition', 'exposure',\n",
       "       'electrocution on railway', 'respiratory problem', 'boat fire',\n",
       "       'unknown (bodies recovered on boat)',\n",
       "       'unknown (bodies found decomposed)', 'lung infection',\n",
       "       'truck crash (was clinging to bottom of truck)', 'car accident',\n",
       "       'unknown (found dead near train tracks)',\n",
       "       'ah1n1 influenza virus, while stuck at border', 'heart attack',\n",
       "       'gang violence (body dismembered)', 'beat-up and killed',\n",
       "       'pulmonary complications', 'burns and suffocation',\n",
       "       'drowning or suffocation in hull', 'bronchopneumonia',\n",
       "       'likely suffocation (found dead in a truck)',\n",
       "       'presumed dehydration', 'bronchial aspiration',\n",
       "       'murdered by gang members', 'assaulted by smugglers',\n",
       "       'murdered (head wound)', 'dehydration and exposure to the elements',\n",
       "       'unknown (body found in desert)', 'unknown (mummified remains)',\n",
       "       'presumed hyperthermia', 'unknown (skeletal remains and mummified)',\n",
       "       'unknown, skeletal remains', 'criminal violence',\n",
       "       'violence during riot',\n",
       "       'unknown (body found in advanced state of decomposition)', 'poison',\n",
       "       'unknown (skeletal and mummified remains)',\n",
       "       'unknown (postmortem decomposition)',\n",
       "       'multiple blunt force injuries', 'presumed exposure',\n",
       "       'injuries caused by boat motor', 'dehydration',\n",
       "       'head injury from fall', 'stabbed',\n",
       "       'renal insufficiency and pulmonary edema', 'cut in half by train',\n",
       "       'blunt force head trauma', 'pulmonary edema, kidney failure',\n",
       "       'respiratory illness', 'mixed - mostly drownings or shootings',\n",
       "       'hunger, fatigue', 'dehydration, asphyxiation', 'fell from boat',\n",
       "       'unknown (corpses recovered from boats)', 'injured from a fight',\n",
       "       'fuel inhalation', 'hyperthermia, dehydration', 'cervix cancer',\n",
       "       'suicide', 'digestive bleeding', 'presumed hypothermia',\n",
       "       'asphyxiation (silica sand inhalation)',\n",
       "       'sickness_and_lack_of_access_to_medicines starvation harsh_weather_lack_of_adequate_shelter',\n",
       "       'sickness_and_lack_of_access_to_medicines harsh_weather_lack_of_adequate_shelter other',\n",
       "       'sickness_and_lack_of_access_to_medicines', 'vehicle_accident',\n",
       "       'sickness_and_lack_of_access_to_medicines harsh_weather_lack_of_adequate_shelter',\n",
       "       'sickness_and_lack_of_access_to_medicines starvation dehydration',\n",
       "       'sickness_and_lack_of_access_to_medicines dehydration',\n",
       "       'sickness_and_lack_of_access_to_medicines dehydration shot_or_stabbed',\n",
       "       'shot_or_stabbed',\n",
       "       'sickness_and_lack_of_access_to_medicines harsh_weather_lack_of_adequate_shelter suffocation',\n",
       "       'starvation dehydration harsh_weather_lack_of_adequate_shelter',\n",
       "       'excessive_physical_abuse',\n",
       "       'sickness_and_lack_of_access_to_medicines starvation',\n",
       "       'sickness_and_lack_of_access_to_medicines starvation harsh_weather_lack_of_adequate_shelter suffocation',\n",
       "       'starvation, dehydration', 'harsh_weather_lack_of_adequate_shelter',\n",
       "       'sickness_and_lack_of_access_to_medicines shot_or_stabbed',\n",
       "       'suffocation, other', 'other',\n",
       "       'starvation suffocation excessive_physical_abuse sexual_abuse',\n",
       "       'sickness_and_lack_of_access_to_medicines suffocation',\n",
       "       'starvation excessive_physical_abuse sexual_abuse',\n",
       "       'sickness_and_lack_of_access_to_medicines dehydration harsh_weather_lack_of_adequate_shelter excessive_physical_abuse sexual_abuse',\n",
       "       'excessive_physical_abuse sexual_abuse',\n",
       "       'sickness_and_lack_of_access_to_medicines starvation dehydration harsh_weather_lack_of_adequate_shelter suffocation',\n",
       "       'starvation suffocation excessive_physical_abuse',\n",
       "       'starvation dehydration harsh_weather_lack_of_adequate_shelter suffocation',\n",
       "       'sickness_and_lack_of_access_to_medicines starvation harsh_weather_lack_of_adequate_shelter suffocation excessive_physical_abuse sexual_abuse',\n",
       "       'sickness_and_lack_of_access_to_medicines excessive_physical_abuse sexual_abuse',\n",
       "       'sickness_and_lack_of_access_to_medicines harsh_weather_lack_of_adequate_shelter suffocation sexual_abuse',\n",
       "       'vehicle_accident other',\n",
       "       'sickness_and_lack_of_access_to_medicines harsh_weather_lack_of_adequate_shelter suffocation excessive_physical_abuse sexual_abuse',\n",
       "       'harsh_weather_lack_of_adequate_shelter excessive_physical_abuse',\n",
       "       'sickness_and_lack_of_access_to_medicines dehydration harsh_weather_lack_of_adequate_shelter suffocation excessive_physical_abuse sexual_abuse',\n",
       "       'harsh_weather_lack_of_adequate_shelter suffocation vehicle_accident',\n",
       "       'harsh_weather_lack_of_adequate_shelter suffocation excessive_physical_abuse sexual_abuse',\n",
       "       'sickness_and_lack_of_access_to_medicines dehydration vehicle_accident',\n",
       "       'dehydration harsh_weather_lack_of_adequate_shelter suffocation excessive_physical_abuse sexual_abuse',\n",
       "       'harsh_weather_lack_of_adequate_shelter excessive_physical_abuse sexual_abuse',\n",
       "       'sickness_and_lack_of_access_to_medicines, dehydration',\n",
       "       'harsh_weather_lack_of_adequate_shelter, suffocation, excessive_physical_abuse, sexual_abuse',\n",
       "       'sickness_and_lack_of_access_to_medicines dehydration harsh_weather_lack_of_adequate_shelter',\n",
       "       'harsh_weather_lack_of_adequate_shelter suffocation',\n",
       "       'sickness_and_lack_of_access_to_medicines, starvation, dehydration, excessive_physical_abuse, sexual_abuse',\n",
       "       'dehydration harsh_weather_lack_of_adequate_shelter',\n",
       "       'harsh_weather_lack_of_adequate_shelter vehicle_accident',\n",
       "       'sickness_and_lack_of_access_to_medicines starvation harsh_weather_lack_of_adequate_shelter suffocation excessive_physical_abuse',\n",
       "       'vehicle_accident shot_or_stabbed',\n",
       "       'sickness_and_lack_of_access_to_medicines starvation dehydration harsh_weather_lack_of_adequate_shelter vehicle_accident sexual_abuse',\n",
       "       'starvation dehydration suffocation excessive_physical_abuse',\n",
       "       'sickness_and_lack_of_access_to_medicines starvation dehydration harsh_weather_lack_of_adequate_shelter',\n",
       "       'starvation harsh_weather_lack_of_adequate_shelter suffocation excessive_physical_abuse',\n",
       "       'sickness_and_lack_of_access_to_medicines, dehydration, harsh_weather_lack_of_adequate_shelter',\n",
       "       'harsh_weather_lack_of_adequate_shelter other',\n",
       "       'sickness_and_lack_of_access_to_medicines dehydration suffocation',\n",
       "       'sickness_and_lack_of_access_to_medicines starvation harsh_weather_lack_of_adequate_shelter suffocation vehicle_accident excessive_physical_abuse sexual_abuse',\n",
       "       'sickness_and_lack_of_access_to_medicines dehydration harsh_weather_lack_of_adequate_shelter excessive_physical_abuse',\n",
       "       'other shot_or_stabbed',\n",
       "       'sickness_and_lack_of_access_to_medicines vehicle_accident',\n",
       "       'sickness_and_lack_of_access_to_medicines starvation dehydration harsh_weather_lack_of_adequate_shelter suffocation sexual_abuse',\n",
       "       'sickness_and_lack_of_access_to_medicines excessive_physical_abuse',\n",
       "       'sickness_and_lack_of_access_to_medicines excessive_physical_abuse sexual_abuse shot_or_stabbed',\n",
       "       'starvation harsh_weather_lack_of_adequate_shelter',\n",
       "       'sickness_and_lack_of_access_to_medicines starvation harsh_weather_lack_of_adequate_shelter excessive_physical_abuse sexual_abuse',\n",
       "       'sickness_and_lack_of_access_to_medicines harsh_weather_lack_of_adequate_shelter excessive_physical_abuse',\n",
       "       'sickness_and_lack_of_access_to_medicines, starvation, harsh_weather_lack_of_adequate_shelter, excessive_physical_abuse, sexual_abuse',\n",
       "       'sickness_and_lack_of_access_to_medicines, harsh_weather_lack_of_adequate_shelter, vehicle_accident',\n",
       "       'sickness_and_lack_of_access_to_medicines, starvation, excessive_physical_abuse, sexual_abuse',\n",
       "       'sexual_abuse',\n",
       "       'sickness_and_lack_of_access_to_medicines, starvation, harsh_weather_lack_of_adequate_shelter, vehicle_accident, excessive_physical_abuse',\n",
       "       'sickness_and_lack_of_access_to_medicines, starvation',\n",
       "       'glycemic crisis (lack of insuline treatment)',\n",
       "       'beat-up and thrown into river', 'unknown (decomposed remains)',\n",
       "       'pending', 'various', 'hypothermia, exhaustion',\n",
       "       'starvation, dehydration, suffocation',\n",
       "       'excessive_physical_abuse shot_or_stabbed',\n",
       "       'starvation, suffocation',\n",
       "       'dehydration suffocation vehicle_accident',\n",
       "       'suffocation vehicle_accident',\n",
       "       'starvation dehydration excessive_physical_abuse shot_or_stabbed',\n",
       "       'starvation harsh_weather_lack_of_adequate_shelter suffocation',\n",
       "       'starvation dehydration excessive_physical_abuse sexual_abuse shot_or_stabbed',\n",
       "       'starvation suffocation shot_or_stabbed',\n",
       "       'starvation dehydration harsh_weather_lack_of_adequate_shelter excessive_physical_abuse',\n",
       "       'starvation dehydration suffocation excessive_physical_abuse sexual_abuse shot_or_stabbed',\n",
       "       'starvation dehydration excessive_physical_abuse',\n",
       "       'sickness_and_lack_of_access_to_medicines starvation excessive_physical_abuse',\n",
       "       'starvation dehydration vehicle_accident', 'van accident',\n",
       "       'head trauma (hit by boat propeller)',\n",
       "       'undernourished, dehydration', 'hit by car', 'renal insufficiency',\n",
       "       'raped and murdured',\n",
       "       'starvation dehydration harsh_weather_lack_of_adequate_shelter suffocation excessive_physical_abuse',\n",
       "       'vehicle incident', 'starvation, sickness', 'unknown (remains)',\n",
       "       'pima county (see spreadsheet for exact location)',\n",
       "       'sickness_and_lack_of_access_to_medicines starvation dehydration excessive_physical_abuse',\n",
       "       'sickness_and_lack_of_access_to_medicines starvation excessive_physical_abuse sexual_abuse',\n",
       "       'starvation excessive_physical_abuse',\n",
       "       'sickness_and_lack_of_access_to_medicines starvation dehydration suffocation',\n",
       "       'sickness_and_lack_of_access_to_medicines starvation harsh_weather_lack_of_adequate_shelter excessive_physical_abuse',\n",
       "       'sickness_and_lack_of_access_to_medicines starvation suffocation excessive_physical_abuse',\n",
       "       'sickness_and_lack_of_access_to_medicines starvation dehydration harsh_weather_lack_of_adequate_shelter suffocation excessive_physical_abuse',\n",
       "       'suffocation excessive_physical_abuse',\n",
       "       'sickness_and_lack_of_access_to_medicines dehydration excessive_physical_abuse sexual_abuse',\n",
       "       'tekeze river, near himora, ethiopia', 'starvation dehydration',\n",
       "       'sickness_and_lack_of_access_to_medicines suffocation vehicle_accident',\n",
       "       'starvation dehydration other',\n",
       "       'sickness_and_lack_of_access_to_medicines starvation excessive_physical_abuse shot_or_stabbed',\n",
       "       'sickness_and_lack_of_access_to_medicines excessive_physical_abuse shot_or_stabbed',\n",
       "       'sickness_and_lack_of_access_to_medicines dehydration excessive_physical_abuse',\n",
       "       'dehydration vehicle_accident excessive_physical_abuse',\n",
       "       'sickness_and_lack_of_access_to_medicines starvation suffocation excessive_physical_abuse shot_or_stabbed',\n",
       "       'shot by apache helicopter', 'beaten to death on train',\n",
       "       'likely drowning', 'fuel burns', 'unknown (found dead on dinghy)',\n",
       "       'probable drowning', 'unknow (skeletal remains)', 'violence',\n",
       "       'harsh conditions', 'sickness, harsh conditions',\n",
       "       'dehydration, starvation', 'exposure, hyperthermia', 'crushed',\n",
       "       'presumed violence', 'crushed / drowning', 'electrocuted on train',\n",
       "       'fall from cliff', 'murdered (bandits)', 'murdered (militia)'], dtype=object)"
      ]
     },
     "execution_count": 11,
     "metadata": {},
     "output_type": "execute_result"
    }
   ],
   "source": [
    "#Lets do some data replacement. \n",
    "data['cause_of_death'] = data['cause_of_death'].fillna(\"Drowning\")\n",
    "data['cause_of_death'] = list(map(lambda string: string.lower(), data['cause_of_death']))\n",
    "data['cause_of_death'].unique()"
   ]
  },
  {
   "cell_type": "code",
   "execution_count": 12,
   "metadata": {
    "_execution_state": "idle",
    "_uuid": "252a4a453e88ed080e96766f22bed1fd85fdd474"
   },
   "outputs": [
    {
     "data": {
      "text/plain": [
       "drowning                                                                                                                                        729\n",
       "unknown (skeletal remains)                                                                                                                      211\n",
       "presumed drowning                                                                                                                               146\n",
       "sickness_and_lack_of_access_to_medicines                                                                                                        120\n",
       "vehicle_accident                                                                                                                                 93\n",
       "shot                                                                                                                                             82\n",
       "shot_or_stabbed                                                                                                                                  60\n",
       "vehicle accident                                                                                                                                 59\n",
       "starvation                                                                                                                                       37\n",
       "hit by vehicle                                                                                                                                   37\n",
       "fell from train                                                                                                                                  35\n",
       "hypothermia                                                                                                                                      34\n",
       "sickness_and_lack_of_access_to_medicines starvation                                                                                              32\n",
       "murdered                                                                                                                                         32\n",
       "hit by train                                                                                                                                     30\n",
       "dehydration                                                                                                                                      26\n",
       "presumed hyperthermia                                                                                                                            25\n",
       "sickness_and_lack_of_access_to_medicines harsh_weather_lack_of_adequate_shelter                                                                  23\n",
       "excessive_physical_abuse                                                                                                                         23\n",
       "violence                                                                                                                                         23\n",
       "hyperthermia                                                                                                                                     23\n",
       "sickness_and_lack_of_access_to_medicines starvation dehydration                                                                                  19\n",
       "other                                                                                                                                            17\n",
       "harsh_weather_lack_of_adequate_shelter                                                                                                           16\n",
       "suffocation                                                                                                                                      16\n",
       "mixed                                                                                                                                            15\n",
       "sickness_and_lack_of_access_to_medicines dehydration                                                                                             12\n",
       "sickness                                                                                                                                         12\n",
       "sickness_and_lack_of_access_to_medicines starvation excessive_physical_abuse sexual_abuse                                                        11\n",
       "sickness_and_lack_of_access_to_medicines starvation harsh_weather_lack_of_adequate_shelter suffocation excessive_physical_abuse sexual_abuse     10\n",
       "                                                                                                                                               ... \n",
       "sickness_and_lack_of_access_to_medicines, harsh_weather_lack_of_adequate_shelter, vehicle_accident                                                1\n",
       "sickness_and_lack_of_access_to_medicines starvation suffocation excessive_physical_abuse shot_or_stabbed                                          1\n",
       "sickness_and_lack_of_access_to_medicines excessive_physical_abuse sexual_abuse shot_or_stabbed                                                    1\n",
       "starvation harsh_weather_lack_of_adequate_shelter suffocation excessive_physical_abuse                                                            1\n",
       "fell from boat                                                                                                                                    1\n",
       "landmine                                                                                                                                          1\n",
       "starvation, dehydration, exhaustion                                                                                                               1\n",
       "lung infection                                                                                                                                    1\n",
       "hypothermia, malnutrition                                                                                                                         1\n",
       "blunt force head trauma                                                                                                                           1\n",
       "bronchial aspiration                                                                                                                              1\n",
       "murdered by gang members                                                                                                                          1\n",
       "suffocation excessive_physical_abuse                                                                                                              1\n",
       "starvation suffocation shot_or_stabbed                                                                                                            1\n",
       "tekeze river, near himora, ethiopia                                                                                                               1\n",
       "electrocuted on train                                                                                                                             1\n",
       "killed                                                                                                                                            1\n",
       "unknown (corpses recovered from boats)                                                                                                            1\n",
       "murdered (militia)                                                                                                                                1\n",
       "unknown (bodies found decomposed)                                                                                                                 1\n",
       "head injury                                                                                                                                       1\n",
       "pulmonary edema                                                                                                                                   1\n",
       "hit by car                                                                                                                                        1\n",
       "dehydration vehicle_accident excessive_physical_abuse                                                                                             1\n",
       "sickness_and_lack_of_access_to_medicines harsh_weather_lack_of_adequate_shelter other                                                             1\n",
       "unknown (bodies recovered from boat)                                                                                                              1\n",
       "unknown (found dead on dinghy)                                                                                                                    1\n",
       "harsh_weather_lack_of_adequate_shelter suffocation excessive_physical_abuse sexual_abuse                                                          1\n",
       "shot by apache helicopter                                                                                                                         1\n",
       "cut in half by train                                                                                                                              1\n",
       "Name: cause_of_death, dtype: int64"
      ]
     },
     "execution_count": 12,
     "metadata": {},
     "output_type": "execute_result"
    }
   ],
   "source": [
    "data['cause_of_death'].value_counts()"
   ]
  },
  {
   "cell_type": "markdown",
   "execution_count": null,
   "metadata": {
    "_uuid": "184c212c66c2b62c543f3e9995dfdfbabae0844e"
   },
   "outputs": [],
   "source": [
    "#### That's a lot of classes. Let's reduce them. "
   ]
  },
  {
   "cell_type": "code",
   "execution_count": 13,
   "metadata": {
    "_execution_state": "idle",
    "_uuid": "9f15437b984b5d36126dbc8464adf7bca374ee20",
    "collapsed": true
   },
   "outputs": [],
   "source": [
    "#Lets lessen the classes for ease. \n",
    "import re\n",
    "\n",
    "def deathcause_replacement():\n",
    "    global data\n",
    "    data.loc[data['cause_of_death'].str.contains('sickness'), 'cause_of_death'] = 'sickness'\n",
    "    data.loc[data['cause_of_death'].str.contains('harsh_weather'), 'cause_of_death'] = 'harsh_weather'\n",
    "    data.loc[data['cause_of_death'].str.contains('unknown|unknow|north africa'), 'cause_of_death'] = 'unknown'\n",
    "    data.loc[data['cause_of_death'].str.contains('starvation|dehydration'), 'cause_of_death'] = 'starvation'\n",
    "    data.loc[data['cause_of_death'].str.contains('drowning|pulmonary|respiratory|lung|bronchial|pneumonia'), 'cause_of_death'] = 'drowning'\n",
    "    data.loc[data['cause_of_death'].str.contains('hyperthermia'), 'cause_of_death'] = 'hypothermia'\n",
    "    data.loc[data['cause_of_death'].str.contains('hypothermia'), 'cause_of_death'] = 'hypothermia'\n",
    "    data.loc[data['cause_of_death'].str.contains('asphyxiation|suffocation'), 'cause_of_death'] = 'asphyxiation'\n",
    "    data.loc[data['cause_of_death'].str.contains('train|bus|vehicle|truck|boat|car|road|van'), 'cause_of_death'] = 'vehicle accident'\n",
    "    data.loc[data['cause_of_death'].str.contains('murder|stab|shot|violent|blunt force|violence|beat-up|fight|murdured|death'), 'cause_of_death'] = 'murder'\n",
    "    data.loc[data['cause_of_death'].str.contains('crushed to death|crush'), 'cause_of_death'] = 'crushed'\n",
    "    data.loc[data['cause_of_death'].str.contains('harsh conditions|harsh_weather'), 'cause_of_death'] = 'harsh conditions'\n",
    "    data.loc[data['cause_of_death'].str.contains('diabetic|heart attack|sickness|meningitis|virus|cancer|bleeding|insuline|inhalation'), 'cause_of_death'] = 'health condition'\n",
    "    data.loc[data['cause_of_death'].str.contains('electrocution'), 'cause_of_death'] = 'electrocution'"
   ]
  },
  {
   "cell_type": "code",
   "execution_count": 14,
   "metadata": {
    "_execution_state": "idle",
    "_uuid": "719a1cb09bacf3c38731653d09f5d3c9d4df716d"
   },
   "outputs": [
    {
     "data": {
      "text/plain": [
       "array(['drowning', 'vehicle accident', 'unknown',\n",
       "       'exposure. died upon entry to refugee camp.', 'asphyxiation',\n",
       "       'murder', 'electrocution',\n",
       "       'burns from cooking gas explosion in connection house in libya',\n",
       "       'hypothermia', 'starvation', 'fell from wall', 'found hanged',\n",
       "       'mixed', 'plane stowaway', 'head injury', 'killed',\n",
       "       'health condition', 'crushed', 'attacked by hippopotamus',\n",
       "       'landmine', 'exposure', 'assaulted by smugglers', 'poison',\n",
       "       'presumed exposure', 'head injury from fall', 'hunger, fatigue',\n",
       "       'suicide', 'harsh conditions', 'other', 'pending', 'various',\n",
       "       'renal insufficiency',\n",
       "       'pima county (see spreadsheet for exact location)',\n",
       "       'tekeze river, near himora, ethiopia', 'fuel burns',\n",
       "       'fall from cliff'], dtype=object)"
      ]
     },
     "execution_count": 14,
     "metadata": {},
     "output_type": "execute_result"
    }
   ],
   "source": [
    "deathcause_replacement()\n",
    "\n",
    "data['cause_of_death'].unique()"
   ]
  },
  {
   "cell_type": "code",
   "execution_count": 15,
   "metadata": {
    "_execution_state": "idle",
    "_uuid": "7c17e98e686483bfd1f37951ff03688a9d30687c"
   },
   "outputs": [
    {
     "data": {
      "text/plain": [
       "<matplotlib.axes._subplots.AxesSubplot at 0x7f31c04757f0>"
      ]
     },
     "execution_count": 15,
     "metadata": {},
     "output_type": "execute_result"
    },
    {
     "data": {
      "image/png": "[encoded data removed]",
      "text/plain": [
       "<matplotlib.figure.Figure at 0x7f31c04ea1d0>"
      ]
     },
     "metadata": {},
     "output_type": "display_data"
    }
   ],
   "source": [
    "data['cause_of_death'].value_counts().plot(kind = \"bar\")"
   ]
  },
  {
   "cell_type": "markdown",
   "execution_count": null,
   "metadata": {
    "_uuid": "c6470287dbe58d253076e6dabe87e3c9465f5287"
   },
   "outputs": [],
   "source": [
    "#### Inference: Looks like drowning is the primary reason for death. "
   ]
  },
  {
   "cell_type": "code",
   "execution_count": 16,
   "metadata": {
    "_execution_state": "idle",
    "_uuid": "46f4922c6dfe3e624bb26e9e52c3a1c7cb957039",
    "collapsed": true
   },
   "outputs": [],
   "source": [
    "inspect = data['cause_of_death'].value_counts().to_frame().reset_index()\n",
    "inspect.columns = ['cause_of_death', \"death_count\"]\n",
    "\n",
    "name_list = inspect.loc[inspect['death_count'] >5 ]['cause_of_death'].tolist()"
   ]
  },
  {
   "cell_type": "code",
   "execution_count": 17,
   "metadata": {
    "_execution_state": "idle",
    "_uuid": "ed822a8efbd82e861fe7abf2d25f2a22b91a5d89",
    "collapsed": true
   },
   "outputs": [],
   "source": [
    "data = data.loc[data['cause_of_death'].isin(name_list)]"
   ]
  },
  {
   "cell_type": "code",
   "execution_count": 18,
   "metadata": {
    "_execution_state": "idle",
    "_uuid": "12f5ac285f256499743967b492b1f182fbf33c69"
   },
   "outputs": [
    {
     "data": {
      "text/plain": [
       "<matplotlib.axes._subplots.AxesSubplot at 0x7f31c02eb1d0>"
      ]
     },
     "execution_count": 18,
     "metadata": {},
     "output_type": "execute_result"
    },
    {
     "data": {
      "image/png": "[encoded data removed]",
      "text/plain": [
       "<matplotlib.figure.Figure at 0x7f31c027c2e8>"
      ]
     },
     "metadata": {},
     "output_type": "display_data"
    }
   ],
   "source": [
    "data['cause_of_death'].value_counts().plot(kind = \"bar\", title = \"Reason for death\")"
   ]
  },
  {
   "cell_type": "markdown",
   "execution_count": null,
   "metadata": {
    "_uuid": "09378d03d9c27749d8b9ca6e33678c1b2c281136"
   },
   "outputs": [],
   "source": [
    "## Can we do something with latitude and longitude values?"
   ]
  },
  {
   "cell_type": "code",
   "execution_count": 19,
   "metadata": {
    "_execution_state": "idle",
    "_uuid": "d0039cab657fb20a1fc63b34f5a96703298ecc73"
   },
   "outputs": [
    {
     "data": {
      "text/plain": [
       "[26.90246600197567, -13.802713980602439]"
      ]
     },
     "execution_count": 19,
     "metadata": {},
     "output_type": "execute_result"
    }
   ],
   "source": [
    "[np.mean(data['lat']), np.mean(data['lon'])]"
   ]
  },
  {
   "cell_type": "code",
   "execution_count": 20,
   "metadata": {
    "_execution_state": "idle",
    "_uuid": "d0db31acdf0126f1c74f820f63703621bcfc8867",
    "collapsed": true
   },
   "outputs": [],
   "source": [
    "data['lon'] = data['lon'].fillna(np.mean(data['lon']))    #data['lon'][~np.isnan(data['lon'])].mean()\n",
    "data['lat'] = data['lat'].fillna(np.mean(data['lat']))    #data['lon'][~np.isnan(data['lon'])].mean()"
   ]
  },
  {
   "cell_type": "code",
   "execution_count": 21,
   "metadata": {
    "_execution_state": "idle",
    "_uuid": "b3eed7052b2b238d0eccf2d5486677996dd4112a"
   },
   "outputs": [
    {
     "data": {
      "text/plain": [
       "<seaborn.axisgrid.FacetGrid at 0x7f31c02f1f60>"
      ]
     },
     "execution_count": 21,
     "metadata": {},
     "output_type": "execute_result"
    },
    {
     "data": {
      "image/png": "[encoded data removed]",
      "text/plain": [
       "<matplotlib.figure.Figure at 0x7f31c01cf470>"
      ]
     },
     "metadata": {},
     "output_type": "display_data"
    }
   ],
   "source": [
    "sns.factorplot(x = \"lat\", y = \"lon\", hue = \"cause_of_death\", kind = \"swarm\", data = data)"
   ]
  },
  {
   "cell_type": "markdown",
   "execution_count": null,
   "metadata": {
    "_uuid": "615e323f44fc97539d9de66c2f367567e4c75ade"
   },
   "outputs": [],
   "source": [
    "#### I tried to plot them on a map. But I wasn't able to. Would love your suggestions here. "
   ]
  },
  {
   "cell_type": "markdown",
   "execution_count": null,
   "metadata": {
    "_uuid": "ef25f9d9c832077abc1e13ad24954f63c37c7b34"
   },
   "outputs": [],
   "source": [
    "## Who are more effected in terms of region?"
   ]
  },
  {
   "cell_type": "code",
   "execution_count": 22,
   "metadata": {
    "_execution_state": "idle",
    "_uuid": "acdc87e16cb151745889db5c76d7d1221411167d"
   },
   "outputs": [
    {
     "data": {
      "text/plain": [
       "<matplotlib.axes._subplots.AxesSubplot at 0x7f31b270c860>"
      ]
     },
     "execution_count": 22,
     "metadata": {},
     "output_type": "execute_result"
    },
    {
     "data": {
      "image/png": "[encoded data removed]",
      "text/plain": [
       "<matplotlib.figure.Figure at 0x7f31c03262b0>"
      ]
     },
     "metadata": {},
     "output_type": "display_data"
    }
   ],
   "source": [
    "data['region_origin'].value_counts().plot(kind = \"bar\")"
   ]
  },
  {
   "cell_type": "code",
   "execution_count": 23,
   "metadata": {
    "_execution_state": "idle",
    "_uuid": "cd0609db1e1f3d1194fe26713cb63d2cee842ba9"
   },
   "outputs": [
    {
     "data": {
      "text/plain": [
       "<matplotlib.axes._subplots.AxesSubplot at 0x7f31b27e0e10>"
      ]
     },
     "execution_count": 23,
     "metadata": {},
     "output_type": "execute_result"
    },
    {
     "data": {
      "image/png": "[encoded data removed]",
      "text/plain": [
       "<matplotlib.figure.Figure at 0x7f31c0450da0>"
      ]
     },
     "metadata": {},
     "output_type": "display_data"
    }
   ],
   "source": [
    "data['incident_region'].value_counts().plot(kind = \"bar\")"
   ]
  },
  {
   "cell_type": "code",
   "execution_count": 24,
   "metadata": {
    "_execution_state": "idle",
    "_uuid": "dfc43397b66c5a8c5051e13976488f4ca6a6c389"
   },
   "outputs": [
    {
     "data": {
      "text/plain": [
       "<matplotlib.axes._subplots.AxesSubplot at 0x7f31c0450518>"
      ]
     },
     "execution_count": 24,
     "metadata": {},
     "output_type": "execute_result"
    },
    {
     "data": {
      "image/png": "[encoded data removed]",
      "text/plain": [
       "<matplotlib.figure.Figure at 0x7f31d5810710>"
      ]
     },
     "metadata": {},
     "output_type": "display_data"
    }
   ],
   "source": [
    "data.groupby('region_origin')['dead'].sum().to_frame().plot(kind = \"bar\")"
   ]
  },
  {
   "cell_type": "markdown",
   "execution_count": null,
   "metadata": {
    "_uuid": "624381ccc70f19c3cfd515fad37a7e5a649f54da"
   },
   "outputs": [],
   "source": [
    "### I see a lot of different variants of Africa. Let's combine all of them!"
   ]
  },
  {
   "cell_type": "code",
   "execution_count": 25,
   "metadata": {
    "_execution_state": "idle",
    "_uuid": "b1146639a9f54e994ca6a1ccb5d30cb68f134aff"
   },
   "outputs": [
    {
     "data": {
      "text/plain": [
       "array(['Middle East', 'Central America & Mexico', 'MENA',\n",
       "       'South East Asia', nan, 'South Asia', 'Middle East/ South Asia',\n",
       "       'Sub-Saharan Africa', 'Horn of Africa', 'Caribbean',\n",
       "       'South America', 'East Asia', 'Central America', 'North Africa',\n",
       "       'Southern Europe', 'Mixed', 'Horn of Africa (P)'], dtype=object)"
      ]
     },
     "execution_count": 25,
     "metadata": {},
     "output_type": "execute_result"
    }
   ],
   "source": [
    "#Lets change it a bit to make it more concrete!\n",
    "data['region_origin'].unique()"
   ]
  },
  {
   "cell_type": "code",
   "execution_count": 26,
   "metadata": {
    "_execution_state": "idle",
    "_uuid": "3345b57bfd436a893ce0b1c95a71c861bff3f5f5",
    "collapsed": true
   },
   "outputs": [],
   "source": [
    "data['region_origin'] = data['region_origin'].fillna('Africa')"
   ]
  },
  {
   "cell_type": "code",
   "execution_count": 27,
   "metadata": {
    "_execution_state": "idle",
    "_uuid": "be28af486b936b3515e3060a81a3887fa815e9d9"
   },
   "outputs": [
    {
     "data": {
      "text/plain": [
       "<matplotlib.axes._subplots.AxesSubplot at 0x7f31b2eaac18>"
      ]
     },
     "execution_count": 27,
     "metadata": {},
     "output_type": "execute_result"
    },
    {
     "data": {
      "image/png": "[encoded data removed]",
      "text/plain": [
       "<matplotlib.figure.Figure at 0x7f31b2bbc240>"
      ]
     },
     "metadata": {},
     "output_type": "display_data"
    }
   ],
   "source": [
    "data.loc[data['region_origin'].str.contains('Africa'), 'region_origin'] = 'Africa'\n",
    "data.groupby('region_origin')['dead'].sum().to_frame().plot(kind = \"bar\")"
   ]
  },
  {
   "cell_type": "code",
   "execution_count": 28,
   "metadata": {
    "_execution_state": "idle",
    "_uuid": "b0e32cefea442a4c77c3e4eb4770f307fc3b2b06"
   },
   "outputs": [
    {
     "data": {
      "text/html": [
       "<div>\n",
       "<table border=\"1\" class=\"dataframe\">\n",
       "  <thead>\n",
       "    <tr style=\"text-align: right;\">\n",
       "      <th></th>\n",
       "      <th>dead</th>\n",
       "    </tr>\n",
       "    <tr>\n",
       "      <th>region_origin</th>\n",
       "      <th></th>\n",
       "    </tr>\n",
       "  </thead>\n",
       "  <tbody>\n",
       "    <tr>\n",
       "      <th>Africa</th>\n",
       "      <td>6547.0</td>\n",
       "    </tr>\n",
       "    <tr>\n",
       "      <th>Caribbean</th>\n",
       "      <td>130.0</td>\n",
       "    </tr>\n",
       "    <tr>\n",
       "      <th>Central America</th>\n",
       "      <td>471.0</td>\n",
       "    </tr>\n",
       "    <tr>\n",
       "      <th>Central America &amp; Mexico</th>\n",
       "      <td>918.0</td>\n",
       "    </tr>\n",
       "    <tr>\n",
       "      <th>East Asia</th>\n",
       "      <td>5.0</td>\n",
       "    </tr>\n",
       "    <tr>\n",
       "      <th>MENA</th>\n",
       "      <td>1108.0</td>\n",
       "    </tr>\n",
       "    <tr>\n",
       "      <th>Middle East</th>\n",
       "      <td>104.0</td>\n",
       "    </tr>\n",
       "    <tr>\n",
       "      <th>Middle East/ South Asia</th>\n",
       "      <td>197.0</td>\n",
       "    </tr>\n",
       "    <tr>\n",
       "      <th>Mixed</th>\n",
       "      <td>443.0</td>\n",
       "    </tr>\n",
       "    <tr>\n",
       "      <th>South America</th>\n",
       "      <td>20.0</td>\n",
       "    </tr>\n",
       "    <tr>\n",
       "      <th>South Asia</th>\n",
       "      <td>197.0</td>\n",
       "    </tr>\n",
       "    <tr>\n",
       "      <th>South East Asia</th>\n",
       "      <td>762.0</td>\n",
       "    </tr>\n",
       "    <tr>\n",
       "      <th>Southern Europe</th>\n",
       "      <td>1.0</td>\n",
       "    </tr>\n",
       "  </tbody>\n",
       "</table>\n",
       "</div>"
      ],
      "text/plain": [
       "                            dead\n",
       "region_origin                   \n",
       "Africa                    6547.0\n",
       "Caribbean                  130.0\n",
       "Central America            471.0\n",
       "Central America & Mexico   918.0\n",
       "East Asia                    5.0\n",
       "MENA                      1108.0\n",
       "Middle East                104.0\n",
       "Middle East/ South Asia    197.0\n",
       "Mixed                      443.0\n",
       "South America               20.0\n",
       "South Asia                 197.0\n",
       "South East Asia            762.0\n",
       "Southern Europe              1.0"
      ]
     },
     "execution_count": 28,
     "metadata": {},
     "output_type": "execute_result"
    }
   ],
   "source": [
    "data.groupby('region_origin')['dead'].sum().to_frame()\n"
   ]
  },
  {
   "cell_type": "markdown",
   "execution_count": null,
   "metadata": {
    "_uuid": "12e69f31a87e945534078ed3cfc56ffe09a79eff"
   },
   "outputs": [],
   "source": [
    "#### *That's staggering! Of all the deaths in this dataset 60% of the deaths were from Africa!*"
   ]
  },
  {
   "cell_type": "markdown",
   "execution_count": null,
   "metadata": {
    "_uuid": "1ca516f79339946e09d4e67c94acfe0dbc733148"
   },
   "outputs": [],
   "source": [
    "### Assuming missing people are dead!"
   ]
  },
  {
   "cell_type": "code",
   "execution_count": 29,
   "metadata": {
    "_execution_state": "idle",
    "_uuid": "3d17a969ba06bbbf6e7b994fd7bbe9756055b1ad"
   },
   "outputs": [
    {
     "data": {
      "text/plain": [
       "1.0     26\n",
       "2.0     23\n",
       "3.0     20\n",
       "4.0     13\n",
       "6.0     11\n",
       "20.0     9\n",
       "9.0      9\n",
       "8.0      9\n",
       "7.0      8\n",
       "10.0     6\n",
       "Name: missing, dtype: int64"
      ]
     },
     "execution_count": 29,
     "metadata": {},
     "output_type": "execute_result"
    }
   ],
   "source": [
    "#Let's combine missing and dead. \n",
    "data['missing'].value_counts().head(10)"
   ]
  },
  {
   "cell_type": "code",
   "execution_count": 30,
   "metadata": {
    "_execution_state": "idle",
    "_uuid": "e86545b616d14dd53f6550ff35bc429e8331f182"
   },
   "outputs": [
    {
     "data": {
      "text/plain": [
       "2.0     1338\n",
       "3.0      249\n",
       "4.0      162\n",
       "5.0       71\n",
       "6.0       67\n",
       "7.0       54\n",
       "8.0       32\n",
       "9.0       31\n",
       "10.0      22\n",
       "11.0      20\n",
       "Name: missing_and_dead, dtype: int64"
      ]
     },
     "execution_count": 30,
     "metadata": {},
     "output_type": "execute_result"
    }
   ],
   "source": [
    "data['missing'] = data['missing'].fillna(1)\n",
    "data['missing_and_dead'] = data['missing'] + data['dead']\n",
    "\n",
    "data['missing_and_dead'].value_counts().head(10)"
   ]
  },
  {
   "cell_type": "code",
   "execution_count": 31,
   "metadata": {
    "_execution_state": "idle",
    "_uuid": "6a312abeebf401bd59c345cabb77cb19d4781864"
   },
   "outputs": [
    {
     "data": {
      "text/plain": [
       "<matplotlib.axes._subplots.AxesSubplot at 0x7f31b2b15da0>"
      ]
     },
     "execution_count": 31,
     "metadata": {},
     "output_type": "execute_result"
    },
    {
     "data": {
      "image/png": "[encoded data removed]",
      "text/plain": [
       "<matplotlib.figure.Figure at 0x7f31b26d2a20>"
      ]
     },
     "metadata": {},
     "output_type": "display_data"
    }
   ],
   "source": [
    "data.groupby('region_origin')['missing_and_dead'].sum().to_frame().plot(kind = \"bar\", stacked = True)"
   ]
  },
  {
   "cell_type": "markdown",
   "execution_count": null,
   "metadata": {
    "_uuid": "89963eb5431dd53c9b1b1a2adc247751ea1cc399"
   },
   "outputs": [],
   "source": [
    "### Which country is more affected?"
   ]
  },
  {
   "cell_type": "code",
   "execution_count": 32,
   "metadata": {
    "_execution_state": "idle",
    "_uuid": "ea47be0bbacf027dac66d8956fa8c5639cc9481a"
   },
   "outputs": [
    {
     "data": {
      "text/plain": [
       "<matplotlib.axes._subplots.AxesSubplot at 0x7f31b30d6d30>"
      ]
     },
     "execution_count": 32,
     "metadata": {},
     "output_type": "execute_result"
    },
    {
     "data": {
      "image/png": "[encoded data removed]",
      "text/plain": [
       "<matplotlib.figure.Figure at 0x7f31b2f95358>"
      ]
     },
     "metadata": {},
     "output_type": "display_data"
    }
   ],
   "source": [
    "data['affected_nationality'].value_counts().head(15).plot(kind = \"bar\")"
   ]
  }
 ],
 "metadata": {
  "kernelspec": {
   "display_name": "Python 3",
   "language": "python",
   "name": "python3"
  },
  "language_info": {
   "codemirror_mode": {
    "name": "ipython",
    "version": 3
   },
   "file_extension": ".py",
   "mimetype": "text/x-python",
   "name": "python",
   "nbconvert_exporter": "python",
   "pygments_lexer": "ipython3",
   "version": "3.5.2"
  }
 },
 "nbformat": 4,
 "nbformat_minor": 2
}
