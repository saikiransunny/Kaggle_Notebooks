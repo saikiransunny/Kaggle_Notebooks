{
 "cells": [
  {
   "cell_type": "markdown",
   "execution_count": null,
   "metadata": {
    "_uuid": "c1af545900664e8a62f44a5b8c0c677edc388daa"
   },
   "outputs": [],
   "source": [
    "Let's dig in! Give a thumbs up if you liked it! \n",
    "\n",
    "Let me know if you have some suggestions and other kind of analysis along similar lines. "
   ]
  },
  {
   "cell_type": "code",
   "execution_count": 1,
   "metadata": {
    "_execution_state": "idle",
    "_uuid": "d316e6adb7c566837846a46f6605bec13018e1e5",
    "collapsed": true
   },
   "outputs": [
    {
     "name": "stdout",
     "output_type": "stream",
     "text": [
      "Netflix Shows.csv\n",
      "\n"
     ]
    }
   ],
   "source": [
    "import numpy as np \n",
    "import pandas as pd \n",
    "import matplotlib.pyplot as plt\n",
    "import seaborn as sns\n",
    "sns.set_style(\"whitegrid\")\n",
    "\n",
    "from subprocess import check_output\n",
    "print(check_output([\"ls\", \"../input\"]).decode(\"utf8\"))\n",
    "\n",
    "%matplotlib inline "
   ]
  },
  {
   "cell_type": "code",
   "execution_count": 2,
   "metadata": {
    "_execution_state": "idle",
    "_uuid": "ae1affb9129ba007a139d6b0b8035800f2c450fd"
   },
   "outputs": [
    {
     "data": {
      "text/html": [
       "<div>\n",
       "<table border=\"1\" class=\"dataframe\">\n",
       "  <thead>\n",
       "    <tr style=\"text-align: right;\">\n",
       "      <th></th>\n",
       "      <th>title</th>\n",
       "      <th>rating</th>\n",
       "      <th>ratingLevel</th>\n",
       "      <th>ratingDescription</th>\n",
       "      <th>release year</th>\n",
       "      <th>user rating score</th>\n",
       "      <th>user rating size</th>\n",
       "    </tr>\n",
       "  </thead>\n",
       "  <tbody>\n",
       "    <tr>\n",
       "      <th>0</th>\n",
       "      <td>White Chicks</td>\n",
       "      <td>PG-13</td>\n",
       "      <td>crude and sexual humor, language and some drug...</td>\n",
       "      <td>80</td>\n",
       "      <td>2004</td>\n",
       "      <td>82.0</td>\n",
       "      <td>80</td>\n",
       "    </tr>\n",
       "    <tr>\n",
       "      <th>1</th>\n",
       "      <td>Lucky Number Slevin</td>\n",
       "      <td>R</td>\n",
       "      <td>strong violence, sexual content and adult lang...</td>\n",
       "      <td>100</td>\n",
       "      <td>2006</td>\n",
       "      <td>NaN</td>\n",
       "      <td>82</td>\n",
       "    </tr>\n",
       "    <tr>\n",
       "      <th>2</th>\n",
       "      <td>Grey's Anatomy</td>\n",
       "      <td>TV-14</td>\n",
       "      <td>Parents strongly cautioned. May be unsuitable ...</td>\n",
       "      <td>90</td>\n",
       "      <td>2016</td>\n",
       "      <td>98.0</td>\n",
       "      <td>80</td>\n",
       "    </tr>\n",
       "    <tr>\n",
       "      <th>3</th>\n",
       "      <td>Prison Break</td>\n",
       "      <td>TV-14</td>\n",
       "      <td>Parents strongly cautioned. May be unsuitable ...</td>\n",
       "      <td>90</td>\n",
       "      <td>2008</td>\n",
       "      <td>98.0</td>\n",
       "      <td>80</td>\n",
       "    </tr>\n",
       "    <tr>\n",
       "      <th>4</th>\n",
       "      <td>How I Met Your Mother</td>\n",
       "      <td>TV-PG</td>\n",
       "      <td>Parental guidance suggested. May not be suitab...</td>\n",
       "      <td>70</td>\n",
       "      <td>2014</td>\n",
       "      <td>94.0</td>\n",
       "      <td>80</td>\n",
       "    </tr>\n",
       "    <tr>\n",
       "      <th>5</th>\n",
       "      <td>Supernatural</td>\n",
       "      <td>TV-14</td>\n",
       "      <td>Parents strongly cautioned. May be unsuitable ...</td>\n",
       "      <td>90</td>\n",
       "      <td>2016</td>\n",
       "      <td>95.0</td>\n",
       "      <td>80</td>\n",
       "    </tr>\n",
       "    <tr>\n",
       "      <th>6</th>\n",
       "      <td>Breaking Bad</td>\n",
       "      <td>TV-MA</td>\n",
       "      <td>For mature audiences.  May not be suitable for...</td>\n",
       "      <td>110</td>\n",
       "      <td>2013</td>\n",
       "      <td>97.0</td>\n",
       "      <td>80</td>\n",
       "    </tr>\n",
       "    <tr>\n",
       "      <th>7</th>\n",
       "      <td>The Vampire Diaries</td>\n",
       "      <td>TV-14</td>\n",
       "      <td>Parents strongly cautioned. May be unsuitable ...</td>\n",
       "      <td>90</td>\n",
       "      <td>2017</td>\n",
       "      <td>91.0</td>\n",
       "      <td>80</td>\n",
       "    </tr>\n",
       "    <tr>\n",
       "      <th>8</th>\n",
       "      <td>The Walking Dead</td>\n",
       "      <td>TV-MA</td>\n",
       "      <td>For mature audiences.  May not be suitable for...</td>\n",
       "      <td>110</td>\n",
       "      <td>2015</td>\n",
       "      <td>98.0</td>\n",
       "      <td>80</td>\n",
       "    </tr>\n",
       "    <tr>\n",
       "      <th>9</th>\n",
       "      <td>Pretty Little Liars</td>\n",
       "      <td>TV-14</td>\n",
       "      <td>Parents strongly cautioned. May be unsuitable ...</td>\n",
       "      <td>90</td>\n",
       "      <td>2016</td>\n",
       "      <td>96.0</td>\n",
       "      <td>80</td>\n",
       "    </tr>\n",
       "  </tbody>\n",
       "</table>\n",
       "</div>"
      ],
      "text/plain": [
       "                   title rating  \\\n",
       "0           White Chicks  PG-13   \n",
       "1    Lucky Number Slevin      R   \n",
       "2         Grey's Anatomy  TV-14   \n",
       "3           Prison Break  TV-14   \n",
       "4  How I Met Your Mother  TV-PG   \n",
       "5           Supernatural  TV-14   \n",
       "6           Breaking Bad  TV-MA   \n",
       "7    The Vampire Diaries  TV-14   \n",
       "8       The Walking Dead  TV-MA   \n",
       "9    Pretty Little Liars  TV-14   \n",
       "\n",
       "                                         ratingLevel  ratingDescription  \\\n",
       "0  crude and sexual humor, language and some drug...                 80   \n",
       "1  strong violence, sexual content and adult lang...                100   \n",
       "2  Parents strongly cautioned. May be unsuitable ...                 90   \n",
       "3  Parents strongly cautioned. May be unsuitable ...                 90   \n",
       "4  Parental guidance suggested. May not be suitab...                 70   \n",
       "5  Parents strongly cautioned. May be unsuitable ...                 90   \n",
       "6  For mature audiences.  May not be suitable for...                110   \n",
       "7  Parents strongly cautioned. May be unsuitable ...                 90   \n",
       "8  For mature audiences.  May not be suitable for...                110   \n",
       "9  Parents strongly cautioned. May be unsuitable ...                 90   \n",
       "\n",
       "   release year  user rating score  user rating size  \n",
       "0          2004               82.0                80  \n",
       "1          2006                NaN                82  \n",
       "2          2016               98.0                80  \n",
       "3          2008               98.0                80  \n",
       "4          2014               94.0                80  \n",
       "5          2016               95.0                80  \n",
       "6          2013               97.0                80  \n",
       "7          2017               91.0                80  \n",
       "8          2015               98.0                80  \n",
       "9          2016               96.0                80  "
      ]
     },
     "execution_count": 2,
     "metadata": {},
     "output_type": "execute_result"
    }
   ],
   "source": [
    "data = pd.read_csv(\"../input/Netflix Shows.csv\", encoding='cp437')\n",
    "data.head(10)"
   ]
  },
  {
   "cell_type": "markdown",
   "execution_count": null,
   "metadata": {
    "_uuid": "0b8dad937959911d372b6752f67c8b7399d07031"
   },
   "outputs": [],
   "source": [
    "## NaN Check. "
   ]
  },
  {
   "cell_type": "markdown",
   "execution_count": null,
   "metadata": {
    "_uuid": "7bf30003f2b4c2be87dfce2cf0417cf5cca4a04a"
   },
   "outputs": [],
   "source": [
    "Lets check some data sanity. Number of NaN in the data and the columns contributing."
   ]
  },
  {
   "cell_type": "code",
   "execution_count": 3,
   "metadata": {
    "_execution_state": "idle",
    "_uuid": "3ddaa72114592fe1b7755f8b75c3dfb44a96b685"
   },
   "outputs": [
    {
     "data": {
      "text/plain": [
       "title                  0\n",
       "rating                 0\n",
       "ratingLevel           59\n",
       "ratingDescription      0\n",
       "release year           0\n",
       "user rating score    395\n",
       "user rating size       0\n",
       "dtype: int64"
      ]
     },
     "execution_count": 3,
     "metadata": {},
     "output_type": "execute_result"
    }
   ],
   "source": [
    "data.isnull().sum()"
   ]
  },
  {
   "cell_type": "markdown",
   "execution_count": null,
   "metadata": {
    "_uuid": "a06b6ba649a8de1b5912f488cd86e0a4cad47070"
   },
   "outputs": [],
   "source": [
    "## NaN Handling."
   ]
  },
  {
   "cell_type": "code",
   "execution_count": 4,
   "metadata": {
    "_execution_state": "idle",
    "_uuid": "d63075443e1ca7d7e23b82d805a468a1c4836e49"
   },
   "outputs": [
    {
     "data": {
      "text/plain": [
       "<matplotlib.axes._subplots.AxesSubplot at 0x7f35bc182908>"
      ]
     },
     "execution_count": 4,
     "metadata": {},
     "output_type": "execute_result"
    },
    {
     "data": {
      "image/png": "[encoded data removed]",
      "text/plain": [
       "<matplotlib.figure.Figure at 0x7f35bc1c6fd0>"
      ]
     },
     "metadata": {},
     "output_type": "display_data"
    }
   ],
   "source": [
    "data['user rating score'].dropna().plot(kind = \"density\")"
   ]
  },
  {
   "cell_type": "markdown",
   "execution_count": null,
   "metadata": {
    "_uuid": "f465a389f5e1f50f98453f15168911ca797dbc56"
   },
   "outputs": [],
   "source": [
    "The data is not in normal distribution. Hence using mean if we were to replace NaN is not a good strategy. We need to replace by\n",
    "median! Let's check the difference. "
   ]
  },
  {
   "cell_type": "code",
   "execution_count": 5,
   "metadata": {
    "_execution_state": "idle",
    "_uuid": "790578b95c3de1194504a9ca23da9c5ab5e136d4"
   },
   "outputs": [
    {
     "name": "stdout",
     "output_type": "stream",
     "text": [
      "The median: 88.0\n",
      "The mean : 84.09421487603306\n"
     ]
    }
   ],
   "source": [
    "print(\"The median: {}\".format(np.median(data['user rating score'].dropna())))\n",
    "print(\"The mean : {}\".format(np.mean(data['user rating score'].dropna())))"
   ]
  },
  {
   "cell_type": "markdown",
   "execution_count": null,
   "metadata": {
    "_uuid": "fb10fc96b2b456aa0022d952e0bd7fcc25692433"
   },
   "outputs": [],
   "source": [
    "For simplicity lets fill in the Nan of ratingLevel and user rating score with their respective median scores. \n",
    "For ratingLevel since it is a categorical variable, we will take the sum of values and replace NaN with highest occurring value of those counts. \n",
    "\n"
   ]
  },
  {
   "cell_type": "code",
   "execution_count": 6,
   "metadata": {
    "_execution_state": "idle",
    "_uuid": "bc52cf03f6da61849c059cb6318ae7b7704ecf94",
    "collapsed": true
   },
   "outputs": [],
   "source": [
    "user_rating_median = np.median(data['user rating score'].dropna())\n",
    "data['user rating score'] = data['user rating score'].fillna(user_rating_median)\n",
    "\n"
   ]
  },
  {
   "cell_type": "code",
   "execution_count": 7,
   "metadata": {
    "_execution_state": "idle",
    "_uuid": "205541e0f3ef2b62c8a62ad69a92ae856ada1c5a"
   },
   "outputs": [
    {
     "data": {
      "text/plain": [
       "Parents strongly cautioned. May be unsuitable for children ages 14 and under.    224\n",
       "General Audiences. Suitable for all ages.                                        134\n",
       "Suitable for all ages.                                                           120\n",
       "For mature audiences.  May not be suitable for children 17 and under.            110\n",
       "Parental guidance suggested. May not be suitable for all children.                54\n",
       "Name: ratingLevel, dtype: int64"
      ]
     },
     "execution_count": 7,
     "metadata": {},
     "output_type": "execute_result"
    }
   ],
   "source": [
    "data['ratingLevel'].value_counts().head()"
   ]
  },
  {
   "cell_type": "code",
   "execution_count": 8,
   "metadata": {
    "_execution_state": "idle",
    "_uuid": "14a00da3b4937a46343ee46d09754a04a21fde04",
    "collapsed": true
   },
   "outputs": [],
   "source": [
    "fillna_ratingLevel = \"Parents strongly cautioned. May be unsuitable for children ages 14 and under.\"\n",
    "data['ratingLevel'] = data['ratingLevel'].fillna(fillna_ratingLevel)"
   ]
  },
  {
   "cell_type": "code",
   "execution_count": 9,
   "metadata": {
    "_execution_state": "idle",
    "_uuid": "793895f82664850a26fd4c7925b1c68a6c7c67cc"
   },
   "outputs": [
    {
     "data": {
      "text/plain": [
       "title                0\n",
       "rating               0\n",
       "ratingLevel          0\n",
       "ratingDescription    0\n",
       "release year         0\n",
       "user rating score    0\n",
       "user rating size     0\n",
       "dtype: int64"
      ]
     },
     "execution_count": 9,
     "metadata": {},
     "output_type": "execute_result"
    }
   ],
   "source": [
    "#Now after substituing lets check if everything has been done well. \n",
    "data.isnull().sum()"
   ]
  },
  {
   "cell_type": "markdown",
   "execution_count": null,
   "metadata": {
    "_uuid": "f4a84fb6e1883aa7358828918fb7920ce2a5d08a"
   },
   "outputs": [],
   "source": [
    "### Is user rating size necessary?"
   ]
  },
  {
   "cell_type": "markdown",
   "execution_count": null,
   "metadata": {
    "_uuid": "e4e15d1d12caa7e6cbbe1f7c5dbb6ef594513bf7"
   },
   "outputs": [],
   "source": [
    "Let's first see if the last column : user rating size has any variation. With a naked eye it doesn't seem like it!\n"
   ]
  },
  {
   "cell_type": "code",
   "execution_count": 10,
   "metadata": {
    "_execution_state": "idle",
    "_uuid": "26be4b0d094967d896b2398ca4e93b03753b18df"
   },
   "outputs": [
    {
     "data": {
      "text/plain": [
       "<matplotlib.axes._subplots.AxesSubplot at 0x7f35bc1b09b0>"
      ]
     },
     "execution_count": 10,
     "metadata": {},
     "output_type": "execute_result"
    },
    {
     "data": {
      "image/png": "[encoded data removed]",
      "text/plain": [
       "<matplotlib.figure.Figure at 0x7f3600834e48>"
      ]
     },
     "metadata": {},
     "output_type": "display_data"
    }
   ],
   "source": [
    "data['user rating size'].plot(kind = \"density\")"
   ]
  },
  {
   "cell_type": "markdown",
   "execution_count": null,
   "metadata": {
    "_uuid": "22f0a8631712b47e35e135806e62dc2249a7d655"
   },
   "outputs": [],
   "source": [
    "Just a bi-modal data. If we were doing some prediction then this information could have been useful but in EDA,\n",
    "I dont think we can get any cool patterns from this. \n",
    "\n",
    "Let me know if you found any cool patterns. \n",
    "I'm removing this feature for now. \n"
   ]
  },
  {
   "cell_type": "code",
   "execution_count": 11,
   "metadata": {
    "_execution_state": "idle",
    "_uuid": "295cd899ff69bae54c42f4121aec981a578f8827",
    "collapsed": true
   },
   "outputs": [],
   "source": [
    "data = data.drop('user rating size', axis=1)"
   ]
  },
  {
   "cell_type": "markdown",
   "execution_count": null,
   "metadata": {
    "_uuid": "88f372f27bde40923af390c4ed66b84613af1101"
   },
   "outputs": [],
   "source": [
    "## Year to no of movies released. "
   ]
  },
  {
   "cell_type": "markdown",
   "execution_count": null,
   "metadata": {
    "_uuid": "fcc0bf2d957412ddadca6a812c221a20e09663a5"
   },
   "outputs": [],
   "source": [
    "Let's first check for correlation between the two."
   ]
  },
  {
   "cell_type": "code",
   "execution_count": 12,
   "metadata": {
    "_execution_state": "idle",
    "_uuid": "2aaff990c55a0c73ca08e9d25a409af7087112c5",
    "collapsed": true
   },
   "outputs": [],
   "source": [
    "movies_in_year = data[\"release year\"].value_counts().to_frame().reset_index()\n",
    "movies_in_year.columns = ['release year', 'release number']\n",
    "\n",
    "movies_in_year = movies_in_year.sort_values('release year', ascending = False)"
   ]
  },
  {
   "cell_type": "markdown",
   "execution_count": null,
   "metadata": {
    "_uuid": "f0a6390c8555b5fb3de716e71e336c36f10a0487"
   },
   "outputs": [],
   "source": [
    "#### Correlation. "
   ]
  },
  {
   "cell_type": "code",
   "execution_count": 13,
   "metadata": {
    "_execution_state": "idle",
    "_uuid": "da3703c7121fffb863e81ba1c3fd654e8dcb4e81"
   },
   "outputs": [
    {
     "data": {
      "text/html": [
       "<div>\n",
       "<table border=\"1\" class=\"dataframe\">\n",
       "  <thead>\n",
       "    <tr style=\"text-align: right;\">\n",
       "      <th></th>\n",
       "      <th>release year</th>\n",
       "      <th>release number</th>\n",
       "    </tr>\n",
       "  </thead>\n",
       "  <tbody>\n",
       "    <tr>\n",
       "      <th>release year</th>\n",
       "      <td>1.000000</td>\n",
       "      <td>0.459705</td>\n",
       "    </tr>\n",
       "    <tr>\n",
       "      <th>release number</th>\n",
       "      <td>0.459705</td>\n",
       "      <td>1.000000</td>\n",
       "    </tr>\n",
       "  </tbody>\n",
       "</table>\n",
       "</div>"
      ],
      "text/plain": [
       "                release year  release number\n",
       "release year        1.000000        0.459705\n",
       "release number      0.459705        1.000000"
      ]
     },
     "execution_count": 13,
     "metadata": {},
     "output_type": "execute_result"
    }
   ],
   "source": [
    "movies_in_year.corr()"
   ]
  },
  {
   "cell_type": "code",
   "execution_count": 14,
   "metadata": {
    "_execution_state": "idle",
    "_uuid": "cd23e40fc1df0a8399b722bcb164b28ae743007b"
   },
   "outputs": [
    {
     "data": {
      "text/plain": [
       "<matplotlib.axes._subplots.AxesSubplot at 0x7f35af7b9dd8>"
      ]
     },
     "execution_count": 14,
     "metadata": {},
     "output_type": "execute_result"
    },
    {
     "data": {
      "image/png": "[encoded data removed]",
      "text/plain": [
       "<matplotlib.figure.Figure at 0x7f35af7caba8>"
      ]
     },
     "metadata": {},
     "output_type": "display_data"
    }
   ],
   "source": [
    "sns.barplot(x = \"release year\", y = 'release number', data = movies_in_year.head(15))"
   ]
  },
  {
   "cell_type": "markdown",
   "execution_count": null,
   "metadata": {
    "_uuid": "eca9a4922aa4b8f5d9f4bcd47ba2d9a456f73ab0"
   },
   "outputs": [],
   "source": [
    "Looks like there is a clear trend in the year and no of movies released in that year. Infact in the last two years, there seems to be an exponential increase!\n",
    "\n",
    "We yet do not know upto which month this dataset is valid for in 2017. Hence considering 2017 for this wouldn't be fair. But, even then, it is almost close to number of movies released in 2015!"
   ]
  },
  {
   "cell_type": "markdown",
   "execution_count": null,
   "metadata": {
    "_uuid": "091ec7d77336d18bb28d77214c7ea607cb9fec87"
   },
   "outputs": [],
   "source": [
    "## Custom Scores!"
   ]
  },
  {
   "cell_type": "markdown",
   "execution_count": null,
   "metadata": {
    "_uuid": "9530907d47b579f8e6c19388b065014780565d3c"
   },
   "outputs": [],
   "source": [
    "With an assumption that the ratings present were rating by adults (Obviously.... DUH!)\n",
    "Lets create a scoring system as below and see if people really like adult content.\n",
    "\n",
    "\n"
   ]
  },
  {
   "cell_type": "code",
   "execution_count": 15,
   "metadata": {
    "_execution_state": "idle",
    "_uuid": "aa4183732dd83d1c1fcfca6a1c226b861902d080"
   },
   "outputs": [
    {
     "data": {
      "text/plain": [
       "array(['crude and sexual humor, language and some drug content',\n",
       "       'strong violence, sexual content and adult language',\n",
       "       'Parents strongly cautioned. May be unsuitable for children ages 14 and under.',\n",
       "       'Parental guidance suggested. May not be suitable for all children.',\n",
       "       'For mature audiences.  May not be suitable for children 17 and under.',\n",
       "       'language and brief violence', 'Suitable for all ages.',\n",
       "       'This movie has not been rated.',\n",
       "       'Suitable for children ages 7 and older.  Content contains fantasy violence.',\n",
       "       'bloody war violence, language throughout and some sexual material',\n",
       "       'This movie has not been rated. Intended for adults only and may contain sex, violence, drugs, language or other adult themes.',\n",
       "       'some thematic elements, rude humor and action',\n",
       "       'pervasive language, some sexual material, violence and drug use',\n",
       "       'mild thematic elements',\n",
       "       'strong crude sexual content, pervasive language, and drug use',\n",
       "       'for action, peril and brief language',\n",
       "       'some sexual material, and language throughout',\n",
       "       'language, some drug use, violence and partial nudity',\n",
       "       'some sexual material', 'strong sexual content and language',\n",
       "       'language, drug content, sexuality/nudity, and some violence-all involving teens',\n",
       "       'thematic elements, scary images, action and peril',\n",
       "       'thematic elements, an accident scene and some suggestive material',\n",
       "       'Parental guidance suggested. May not be suitable for children.',\n",
       "       'Restricted. May be inappropriate for children 17 and under.',\n",
       "       'for thematic material and language',\n",
       "       'language and some crude sexual humor',\n",
       "       'adult content, adult language and mild violence',\n",
       "       'some sex-related material',\n",
       "       'crude and suggestive humor, and for language',\n",
       "       'thematic elements, brief violence and innuendo',\n",
       "       'some violence and one sexual scene',\n",
       "       'thematic elements, scary images, some language and suggestive humor',\n",
       "       'General Audiences. Suitable for all ages.',\n",
       "       'For some rude and suggestive material, and for language.',\n",
       "       'thematic material involving threatening behavior, and for violence and sexuality',\n",
       "       'language and some sexual humor',\n",
       "       'pervasive drug content and language, some violence and sexuality',\n",
       "       'pervasive sexual content, brief graphic nudity, language and some drug use',\n",
       "       'Parents strongly cautioned. May be inappropriate for children under 13.',\n",
       "       'mild action and some rude humor',\n",
       "       'some violent content and mature thematic elements',\n",
       "       'strong violence and language throughout',\n",
       "       'dialogue, language, sexual situations and violence',\n",
       "       'some scary images',\n",
       "       'some rude humor, language and some scary action',\n",
       "       'animated action violence, some scary cartoon images and mild language',\n",
       "       'sci-fi action violence throughout, brief language and momentary smoking',\n",
       "       'Suitable for children ages 7 and older', 'fantasy action',\n",
       "       'for some sequences of scary action and peril',\n",
       "       'for rude humor and action', 'for action and some rude humor',\n",
       "       'action violence throughout, some scary images, and language',\n",
       "       'fantasy action and mild language', 'action and some rude humor',\n",
       "       'action and violence throughout, and mild language',\n",
       "       'some rude dialogue', 'slapstick action and mild language',\n",
       "       'mild sci-fi action', 'some scary action, rude humor and language',\n",
       "       'action violence, language and rude humor', 'mild suggestive humor',\n",
       "       'sequences of martial arts action',\n",
       "       'some scary images, action and rude humor',\n",
       "       'scary and intense creature action and images, and for some rude humor',\n",
       "       'martial arts action and some mild rude humor',\n",
       "       'rude humor and some action',\n",
       "       'fantasy action/peril and some language',\n",
       "       'moderate adult language and intense action',\n",
       "       'action sequences and peril', 'adult content and mld violence',\n",
       "       'some mild action', 'mild action and rude humor',\n",
       "       'action and rude humor',\n",
       "       'language, some comic violence and mild sex-related humor',\n",
       "       'for action/peril, some scary moments and brief rude humor',\n",
       "       'intense scenes dealing with strong content',\n",
       "       'mild thematic material and language',\n",
       "       'some action violence involving gunplay, and mild rude humor',\n",
       "       'some scary moments',\n",
       "       'scary images, suggestive material, some language and smoking',\n",
       "       'some scary images, perilous action sequences and mild rude humor',\n",
       "       'rude and suggestive humor, and some action', 'some rude humor',\n",
       "       'violence and menacing action, rude humor, suggestive content and thematic elements',\n",
       "       'some peril', 'animal action and humor', 'action violence',\n",
       "       'some scary images and action, and brief mild language',\n",
       "       'mild language and action sequences',\n",
       "       'mild language and comic action', 'some rude language and pranks',\n",
       "       'some mild language and rough hockey action',\n",
       "       'some mild, rude humor',\n",
       "       'brief mild language and some rude behavior',\n",
       "       'some reckless behavior', 'some mild thematic elements',\n",
       "       'some rude humor and sports action'], dtype=object)"
      ]
     },
     "execution_count": 15,
     "metadata": {},
     "output_type": "execute_result"
    }
   ],
   "source": [
    "data['ratingLevel'].unique()\n"
   ]
  },
  {
   "cell_type": "markdown",
   "execution_count": null,
   "metadata": {
    "_uuid": "0e935320090d810ffef8e1ff683caf47ca35e778"
   },
   "outputs": [],
   "source": [
    "### Let's create a \"adult-ness\" score of a film!"
   ]
  },
  {
   "cell_type": "markdown",
   "execution_count": null,
   "metadata": {
    "_uuid": "ab26f746d9650e2583598deea0a293723280b02b"
   },
   "outputs": [],
   "source": [
    "lets create a scoring system where we increment score if a word if in the list of following words. \n",
    "Lets consider the following as words. \n"
   ]
  },
  {
   "cell_type": "code",
   "execution_count": 16,
   "metadata": {
    "_execution_state": "idle",
    "_uuid": "c8a7d38393c0051fd88d34d67e70c390664a95d8",
    "collapsed": true
   },
   "outputs": [],
   "source": [
    "\n",
    "words = ['rude', 'sex', 'scary', 'violence', 'sex_related', 'adult', 'drug', 'sexual', 'nudity', 'parents', 'children']\n",
    "#adding parents, children since it is indicative that this isn't for children.\n",
    "\n",
    "def compute_score(data):\n",
    "    score = 0\n",
    "    for i in words:\n",
    "        if(i in data):\n",
    "            score = score + data.count(i)\n",
    "    return(score)\n",
    "\n",
    "data['adult_score'] = [compute_score(datum) for datum in data['ratingLevel']]"
   ]
  },
  {
   "cell_type": "code",
   "execution_count": 17,
   "metadata": {
    "_execution_state": "idle",
    "_uuid": "15580a70a56fbfe456872f61e5d0afff1eb8bce2"
   },
   "outputs": [
    {
     "data": {
      "text/plain": [
       "<matplotlib.axes._subplots.AxesSubplot at 0x7f35af62a240>"
      ]
     },
     "execution_count": 17,
     "metadata": {},
     "output_type": "execute_result"
    },
    {
     "data": {
      "image/png": "[encoded data removed]",
      "text/plain": [
       "<matplotlib.figure.Figure at 0x7f35af66a860>"
      ]
     },
     "metadata": {},
     "output_type": "display_data"
    }
   ],
   "source": [
    "data['adult_score'].plot(kind = \"density\")"
   ]
  },
  {
   "cell_type": "code",
   "execution_count": 18,
   "metadata": {
    "_execution_state": "idle",
    "_uuid": "796ae3c804d1bfa9b0befbf3ee5e1aa540ad8ccc"
   },
   "outputs": [
    {
     "data": {
      "text/plain": [
       "<matplotlib.axes._subplots.AxesSubplot at 0x7f35af5a5048>"
      ]
     },
     "execution_count": 18,
     "metadata": {},
     "output_type": "execute_result"
    },
    {
     "data": {
      "image/png": "[encoded data removed]",
      "text/plain": [
       "<matplotlib.figure.Figure at 0x7f35af5dad30>"
      ]
     },
     "metadata": {},
     "output_type": "display_data"
    }
   ],
   "source": [
    "data['adult_score'].value_counts().plot(kind = \"bar\")"
   ]
  },
  {
   "cell_type": "markdown",
   "execution_count": null,
   "metadata": {
    "_uuid": "06736646cd54012b7ceaccfe2a820e3d4b8f381d"
   },
   "outputs": [],
   "source": [
    "Looks like people make sure there is some amount of adultness in films! \n",
    "\n",
    "And next obviously you need films for children and hence >300 instances where we see no adult-ness score!"
   ]
  },
  {
   "cell_type": "markdown",
   "execution_count": null,
   "metadata": {
    "_uuid": "cc5e29ab25e8f69c2ea7d4dfcaef38b678cf8308"
   },
   "outputs": [],
   "source": [
    "### What kind of films are there?"
   ]
  },
  {
   "cell_type": "code",
   "execution_count": 19,
   "metadata": {
    "_execution_state": "idle",
    "_uuid": "feaa9c2dc948df674771946ea4bf6a8c0e367e28"
   },
   "outputs": [
    {
     "data": {
      "text/html": [
       "<div>\n",
       "<table border=\"1\" class=\"dataframe\">\n",
       "  <thead>\n",
       "    <tr style=\"text-align: right;\">\n",
       "      <th></th>\n",
       "      <th>title</th>\n",
       "      <th>rating</th>\n",
       "      <th>ratingLevel</th>\n",
       "      <th>ratingDescription</th>\n",
       "      <th>release year</th>\n",
       "      <th>user rating score</th>\n",
       "      <th>adult_score</th>\n",
       "    </tr>\n",
       "  </thead>\n",
       "  <tbody>\n",
       "    <tr>\n",
       "      <th>0</th>\n",
       "      <td>White Chicks</td>\n",
       "      <td>PG-13</td>\n",
       "      <td>crude and sexual humor, language and some drug...</td>\n",
       "      <td>80</td>\n",
       "      <td>2004</td>\n",
       "      <td>82.0</td>\n",
       "      <td>4</td>\n",
       "    </tr>\n",
       "    <tr>\n",
       "      <th>1</th>\n",
       "      <td>Lucky Number Slevin</td>\n",
       "      <td>R</td>\n",
       "      <td>strong violence, sexual content and adult lang...</td>\n",
       "      <td>100</td>\n",
       "      <td>2006</td>\n",
       "      <td>88.0</td>\n",
       "      <td>4</td>\n",
       "    </tr>\n",
       "    <tr>\n",
       "      <th>38</th>\n",
       "      <td>White Girl</td>\n",
       "      <td>UR</td>\n",
       "      <td>This movie has not been rated. Intended for ad...</td>\n",
       "      <td>124</td>\n",
       "      <td>2016</td>\n",
       "      <td>88.0</td>\n",
       "      <td>5</td>\n",
       "    </tr>\n",
       "    <tr>\n",
       "      <th>50</th>\n",
       "      <td>Lucky Number Slevin</td>\n",
       "      <td>R</td>\n",
       "      <td>strong violence, sexual content and adult lang...</td>\n",
       "      <td>100</td>\n",
       "      <td>2006</td>\n",
       "      <td>88.0</td>\n",
       "      <td>4</td>\n",
       "    </tr>\n",
       "    <tr>\n",
       "      <th>87</th>\n",
       "      <td>Meet the Blacks</td>\n",
       "      <td>R</td>\n",
       "      <td>pervasive language, some sexual material, viol...</td>\n",
       "      <td>100</td>\n",
       "      <td>2016</td>\n",
       "      <td>79.0</td>\n",
       "      <td>4</td>\n",
       "    </tr>\n",
       "    <tr>\n",
       "      <th>90</th>\n",
       "      <td>Sausage Party</td>\n",
       "      <td>R</td>\n",
       "      <td>strong crude sexual content, pervasive languag...</td>\n",
       "      <td>100</td>\n",
       "      <td>2016</td>\n",
       "      <td>91.0</td>\n",
       "      <td>4</td>\n",
       "    </tr>\n",
       "    <tr>\n",
       "      <th>101</th>\n",
       "      <td>Lucky Number Slevin</td>\n",
       "      <td>R</td>\n",
       "      <td>strong violence, sexual content and adult lang...</td>\n",
       "      <td>100</td>\n",
       "      <td>2006</td>\n",
       "      <td>88.0</td>\n",
       "      <td>4</td>\n",
       "    </tr>\n",
       "    <tr>\n",
       "      <th>170</th>\n",
       "      <td>Dope</td>\n",
       "      <td>R</td>\n",
       "      <td>language, drug content, sexuality/nudity, and ...</td>\n",
       "      <td>100</td>\n",
       "      <td>2015</td>\n",
       "      <td>79.0</td>\n",
       "      <td>5</td>\n",
       "    </tr>\n",
       "    <tr>\n",
       "      <th>303</th>\n",
       "      <td>Blow</td>\n",
       "      <td>R</td>\n",
       "      <td>pervasive drug content and language, some viol...</td>\n",
       "      <td>100</td>\n",
       "      <td>2001</td>\n",
       "      <td>78.0</td>\n",
       "      <td>4</td>\n",
       "    </tr>\n",
       "    <tr>\n",
       "      <th>334</th>\n",
       "      <td>Magic Mike</td>\n",
       "      <td>R</td>\n",
       "      <td>pervasive sexual content, brief graphic nudity...</td>\n",
       "      <td>100</td>\n",
       "      <td>2012</td>\n",
       "      <td>77.0</td>\n",
       "      <td>4</td>\n",
       "    </tr>\n",
       "    <tr>\n",
       "      <th>344</th>\n",
       "      <td>Sausage Party</td>\n",
       "      <td>R</td>\n",
       "      <td>strong crude sexual content, pervasive languag...</td>\n",
       "      <td>100</td>\n",
       "      <td>2016</td>\n",
       "      <td>91.0</td>\n",
       "      <td>4</td>\n",
       "    </tr>\n",
       "  </tbody>\n",
       "</table>\n",
       "</div>"
      ],
      "text/plain": [
       "                   title rating  \\\n",
       "0           White Chicks  PG-13   \n",
       "1    Lucky Number Slevin      R   \n",
       "38            White Girl     UR   \n",
       "50   Lucky Number Slevin      R   \n",
       "87       Meet the Blacks      R   \n",
       "90         Sausage Party      R   \n",
       "101  Lucky Number Slevin      R   \n",
       "170                 Dope      R   \n",
       "303                 Blow      R   \n",
       "334           Magic Mike      R   \n",
       "344        Sausage Party      R   \n",
       "\n",
       "                                           ratingLevel  ratingDescription  \\\n",
       "0    crude and sexual humor, language and some drug...                 80   \n",
       "1    strong violence, sexual content and adult lang...                100   \n",
       "38   This movie has not been rated. Intended for ad...                124   \n",
       "50   strong violence, sexual content and adult lang...                100   \n",
       "87   pervasive language, some sexual material, viol...                100   \n",
       "90   strong crude sexual content, pervasive languag...                100   \n",
       "101  strong violence, sexual content and adult lang...                100   \n",
       "170  language, drug content, sexuality/nudity, and ...                100   \n",
       "303  pervasive drug content and language, some viol...                100   \n",
       "334  pervasive sexual content, brief graphic nudity...                100   \n",
       "344  strong crude sexual content, pervasive languag...                100   \n",
       "\n",
       "     release year  user rating score  adult_score  \n",
       "0            2004               82.0            4  \n",
       "1            2006               88.0            4  \n",
       "38           2016               88.0            5  \n",
       "50           2006               88.0            4  \n",
       "87           2016               79.0            4  \n",
       "90           2016               91.0            4  \n",
       "101          2006               88.0            4  \n",
       "170          2015               79.0            5  \n",
       "303          2001               78.0            4  \n",
       "334          2012               77.0            4  \n",
       "344          2016               91.0            4  "
      ]
     },
     "execution_count": 19,
     "metadata": {},
     "output_type": "execute_result"
    }
   ],
   "source": [
    "data[data['adult_score'] > 3]\n"
   ]
  },
  {
   "cell_type": "markdown",
   "execution_count": null,
   "metadata": {
    "_uuid": "47a62249133a95a1577988007503266d9088634b"
   },
   "outputs": [],
   "source": [
    "I have seen that for score=0 there are many movies which were not rated. Hence lets filter those first and see which ones have 0.\n"
   ]
  },
  {
   "cell_type": "code",
   "execution_count": 20,
   "metadata": {
    "_execution_state": "idle",
    "_uuid": "1d4ba65643e372d2939e5b53cdabe8febb98d657"
   },
   "outputs": [
    {
     "data": {
      "text/html": [
       "<div>\n",
       "<table border=\"1\" class=\"dataframe\">\n",
       "  <thead>\n",
       "    <tr style=\"text-align: right;\">\n",
       "      <th></th>\n",
       "      <th>title</th>\n",
       "      <th>rating</th>\n",
       "      <th>ratingLevel</th>\n",
       "      <th>ratingDescription</th>\n",
       "      <th>release year</th>\n",
       "      <th>user rating score</th>\n",
       "      <th>adult_score</th>\n",
       "    </tr>\n",
       "  </thead>\n",
       "  <tbody>\n",
       "    <tr>\n",
       "      <th>15</th>\n",
       "      <td>Lottie Dottie Chicken</td>\n",
       "      <td>TV-Y</td>\n",
       "      <td>Suitable for all ages.</td>\n",
       "      <td>10</td>\n",
       "      <td>2009</td>\n",
       "      <td>88.0</td>\n",
       "      <td>0</td>\n",
       "    </tr>\n",
       "    <tr>\n",
       "      <th>20</th>\n",
       "      <td>Masha and the Bear</td>\n",
       "      <td>TV-Y</td>\n",
       "      <td>Suitable for all ages.</td>\n",
       "      <td>10</td>\n",
       "      <td>2013</td>\n",
       "      <td>81.0</td>\n",
       "      <td>0</td>\n",
       "    </tr>\n",
       "    <tr>\n",
       "      <th>88</th>\n",
       "      <td>Finding Dory</td>\n",
       "      <td>PG</td>\n",
       "      <td>mild thematic elements</td>\n",
       "      <td>60</td>\n",
       "      <td>2016</td>\n",
       "      <td>98.0</td>\n",
       "      <td>0</td>\n",
       "    </tr>\n",
       "    <tr>\n",
       "      <th>91</th>\n",
       "      <td>Pete's Dragon</td>\n",
       "      <td>PG</td>\n",
       "      <td>for action, peril and brief language</td>\n",
       "      <td>60</td>\n",
       "      <td>2016</td>\n",
       "      <td>93.0</td>\n",
       "      <td>0</td>\n",
       "    </tr>\n",
       "    <tr>\n",
       "      <th>184</th>\n",
       "      <td>Queen of Katwe</td>\n",
       "      <td>PG</td>\n",
       "      <td>thematic elements, an accident scene and some ...</td>\n",
       "      <td>60</td>\n",
       "      <td>2016</td>\n",
       "      <td>88.0</td>\n",
       "      <td>0</td>\n",
       "    </tr>\n",
       "    <tr>\n",
       "      <th>236</th>\n",
       "      <td>The Great Gilly Hopkins</td>\n",
       "      <td>PG</td>\n",
       "      <td>for thematic material and language</td>\n",
       "      <td>60</td>\n",
       "      <td>2016</td>\n",
       "      <td>69.0</td>\n",
       "      <td>0</td>\n",
       "    </tr>\n",
       "    <tr>\n",
       "      <th>256</th>\n",
       "      <td>High School Musical 2</td>\n",
       "      <td>TV-G</td>\n",
       "      <td>Suitable for all ages.</td>\n",
       "      <td>35</td>\n",
       "      <td>2007</td>\n",
       "      <td>58.0</td>\n",
       "      <td>0</td>\n",
       "    </tr>\n",
       "    <tr>\n",
       "      <th>259</th>\n",
       "      <td>Hannah Montana: The Movie</td>\n",
       "      <td>G</td>\n",
       "      <td>General Audiences. Suitable for all ages.</td>\n",
       "      <td>35</td>\n",
       "      <td>2009</td>\n",
       "      <td>56.0</td>\n",
       "      <td>0</td>\n",
       "    </tr>\n",
       "    <tr>\n",
       "      <th>262</th>\n",
       "      <td>StarStruck</td>\n",
       "      <td>TV-G</td>\n",
       "      <td>Suitable for all ages.</td>\n",
       "      <td>35</td>\n",
       "      <td>2010</td>\n",
       "      <td>88.0</td>\n",
       "      <td>0</td>\n",
       "    </tr>\n",
       "    <tr>\n",
       "      <th>292</th>\n",
       "      <td>Fuller House</td>\n",
       "      <td>TV-G</td>\n",
       "      <td>Suitable for all ages.</td>\n",
       "      <td>35</td>\n",
       "      <td>2016</td>\n",
       "      <td>90.0</td>\n",
       "      <td>0</td>\n",
       "    </tr>\n",
       "  </tbody>\n",
       "</table>\n",
       "</div>"
      ],
      "text/plain": [
       "                         title rating  \\\n",
       "15       Lottie Dottie Chicken   TV-Y   \n",
       "20          Masha and the Bear   TV-Y   \n",
       "88                Finding Dory     PG   \n",
       "91               Pete's Dragon     PG   \n",
       "184             Queen of Katwe     PG   \n",
       "236    The Great Gilly Hopkins     PG   \n",
       "256      High School Musical 2   TV-G   \n",
       "259  Hannah Montana: The Movie      G   \n",
       "262                 StarStruck   TV-G   \n",
       "292               Fuller House   TV-G   \n",
       "\n",
       "                                           ratingLevel  ratingDescription  \\\n",
       "15                              Suitable for all ages.                 10   \n",
       "20                              Suitable for all ages.                 10   \n",
       "88                              mild thematic elements                 60   \n",
       "91                for action, peril and brief language                 60   \n",
       "184  thematic elements, an accident scene and some ...                 60   \n",
       "236                 for thematic material and language                 60   \n",
       "256                             Suitable for all ages.                 35   \n",
       "259          General Audiences. Suitable for all ages.                 35   \n",
       "262                             Suitable for all ages.                 35   \n",
       "292                             Suitable for all ages.                 35   \n",
       "\n",
       "     release year  user rating score  adult_score  \n",
       "15           2009               88.0            0  \n",
       "20           2013               81.0            0  \n",
       "88           2016               98.0            0  \n",
       "91           2016               93.0            0  \n",
       "184          2016               88.0            0  \n",
       "236          2016               69.0            0  \n",
       "256          2007               58.0            0  \n",
       "259          2009               56.0            0  \n",
       "262          2010               88.0            0  \n",
       "292          2016               90.0            0  "
      ]
     },
     "execution_count": 20,
     "metadata": {},
     "output_type": "execute_result"
    }
   ],
   "source": [
    "\n",
    "data_adultscore = data.copy()\n",
    "data_adultscore = data_adultscore[data_adultscore['ratingLevel'] != \"This movie has not been rated.\"]\n",
    "data_adultscore[data_adultscore['adult_score'] ==0].head(10)"
   ]
  },
  {
   "cell_type": "code",
   "execution_count": 21,
   "metadata": {
    "_execution_state": "idle",
    "_uuid": "2437f8afc485527b9f5474c2cc230d0ff1d37e03",
    "collapsed": true
   },
   "outputs": [],
   "source": [
    "del(data_adultscore)"
   ]
  },
  {
   "cell_type": "markdown",
   "execution_count": null,
   "metadata": {
    "_uuid": "3eb401b3333cf1c46552cb1d35a6b790caa6571d"
   },
   "outputs": [],
   "source": [
    "## And.... ofcourse the word cloud! "
   ]
  },
  {
   "cell_type": "code",
   "execution_count": 22,
   "metadata": {
    "_execution_state": "idle",
    "_uuid": "c1c6f230a0b4581f017add6d1bc94d73894836e9"
   },
   "outputs": [
    {
     "data": {
      "image/png": "[encoded data removed]",
      "text/plain": [
       "<matplotlib.figure.Figure at 0x7f35af664400>"
      ]
     },
     "metadata": {},
     "output_type": "display_data"
    }
   ],
   "source": [
    "from wordcloud import WordCloud, STOPWORDS\n",
    "\n",
    "wordcloud = WordCloud(\n",
    "                          stopwords=STOPWORDS,\n",
    "                          background_color='white',\n",
    "                          width=1500,\n",
    "                          height=1500\n",
    "                         ).generate(\" \".join(data['title']))\n",
    "plt.imshow(wordcloud)\n",
    "plt.axis('off')\n",
    "plt.show()"
   ]
  }
 ],
 "metadata": {
  "kernelspec": {
   "display_name": "Python 3",
   "language": "python",
   "name": "python3"
  },
  "language_info": {
   "codemirror_mode": {
    "name": "ipython",
    "version": 3
   },
   "file_extension": ".py",
   "mimetype": "text/x-python",
   "name": "python",
   "nbconvert_exporter": "python",
   "pygments_lexer": "ipython3",
   "version": "3.6.0"
  }
 },
 "nbformat": 4,
 "nbformat_minor": 2
}
